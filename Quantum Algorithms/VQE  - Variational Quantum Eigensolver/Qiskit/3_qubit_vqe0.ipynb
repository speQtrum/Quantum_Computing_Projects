{
 "nbformat": 4,
 "nbformat_minor": 2,
 "metadata": {
  "language_info": {
   "name": "python",
   "codemirror_mode": {
    "name": "ipython",
    "version": 3
   },
   "version": "3.8.1-final"
  },
  "orig_nbformat": 2,
  "file_extension": ".py",
  "mimetype": "text/x-python",
  "name": "python",
  "npconvert_exporter": "python",
  "pygments_lexer": "ipython3",
  "version": 3,
  "kernelspec": {
   "name": "python38164bitqiskitenvconda860a5fef577343d5b67a3932c5a14e3b",
   "display_name": "Python 3.8.1 64-bit ('qiskit_env': conda)"
  }
 },
 "cells": [
  {
   "cell_type": "markdown",
   "metadata": {},
   "source": [
    "# Variational Quantum Eigen Solver on 3 Qubit Circuit\n",
    "Find the ground state energy eigen value of the given hamiltonian \n",
    "$$ Hamiltonian = \\begin{bmatrix} 0.3 & 0 & 0 & 0 & 0 & 1.1 & 0 & 0 \\\\ 0 & -0.3 & 0 & 0 & 1.1 & 0 & 0 & 0\\\\ 0 & 0 & -0.3 & 0 & 0 & 0 & 0 & 0.7 \\\\ 0 & 0 & 0 & 0.3 & 0 & 0 & 0.7 & 0 \\\\ 0 & 1.1 & 0 & 0 & -0.3 & 0 & 0 & 0 \\\\ 1.1 & 0 & 0 & 0 & 0 & 0.3 & 0 & 0 \\\\ 0 & 0 & 0 & 0.7 & 0 & 0 & 0.3 & 0 \\\\ 0 & 0 & 0.7 & 0 & 0 & 0 & 0 & -0.3 \\end{bmatrix}$$\n",
    "\n",
    "Above Hamiltonian can be decomposed to fermionic basis\n",
    " $$Hamiltonian =  0.2(X \\otimes Z \\otimes X) + 0.9(X \\otimes I \\otimes X) + 0.3(Z \\otimes Z \\otimes Z) $$\n",
    "\n",
    "Where $X,Z$ are pauli's spin matrices and $I$ is the Identity matrix\n"
   ]
  },
  {
   "cell_type": "markdown",
   "metadata": {},
   "source": [
    "### Solution with Numpy Linalg"
   ]
  },
  {
   "cell_type": "code",
   "execution_count": 1,
   "metadata": {},
   "outputs": [
    {
     "output_type": "stream",
     "name": "stdout",
     "text": "Lowest eigen value is: -1.4\n"
    }
   ],
   "source": [
    "import numpy as np\n",
    "\n",
    "\n",
    "X = np.array([[0,1],[1,0]])       # pauli's sigma-x matrix\n",
    "Z = np.array([[1,0],[0,-1]])      # pauli's sigma-z matrix\n",
    "I = np.array([[1,0],[0,1]])       # 2X2 Identity matrix\n",
    "\n",
    "\n",
    "\n",
    "A = np.kron(X,np.kron(Z,X))       # XZX\n",
    "B = np.kron(X,np.kron(I,X))       # XIX\n",
    "C = np.kron(Z,np.kron(Z,Z))       # ZZZ\n",
    "H = (0.2*A) + (0.9*B) + (0.3*C)   # \"H = 0.2*XZX + 0.9*XIX + 0.3*ZZZ\" is the hamiltonian\n",
    "\n",
    "#print(H)\n",
    "eig_vals,eig_vecs = np.linalg.eig(H)\n",
    "print('Lowest eigen value is:',round(eig_vals.min(),3))"
   ]
  },
  {
   "cell_type": "markdown",
   "metadata": {},
   "source": [
    "## VQE on IBM QASM simulator\n",
    "Nesessary imports are performed like Numpy, qiskit, Scipy etc."
   ]
  },
  {
   "cell_type": "code",
   "execution_count": 2,
   "metadata": {},
   "outputs": [],
   "source": [
    "from qiskit import QuantumCircuit, ClassicalRegister, QuantumRegister\n",
    "from qiskit import execute\n",
    "from qiskit import BasicAer as Aer\n",
    "from qiskit.tools.visualization import circuit_drawer, plot_histogram\n",
    "from qiskit.visualization import *\n",
    "from scipy.optimize import minimize\n",
    "from scipy import array\n",
    "from random import random\n",
    "#%config InlineBackend.figure_format = 'svg'\n",
    "import matplotlib.pyplot as plt\n",
    "from qiskit import *\n",
    "#plt.style.use('dark_background')\n",
    "#style = {'backgroundcolor': '#282c34'}"
   ]
  },
  {
   "cell_type": "markdown",
   "metadata": {},
   "source": [
    "## Ansatz: Trial solution\n",
    "A choice of ANSATZ of specific choice with 3 variational parameters is given here with depth of 3"
   ]
  },
  {
   "cell_type": "code",
   "execution_count": 3,
   "metadata": {},
   "outputs": [],
   "source": [
    "def parametric_state(theta): #------------- Creates ANSATZ\n",
    "    \"\"\"\n",
    "    Creates ANSATZ with an \n",
    "    angle taking as parameter &\n",
    "    returns a quantum circuit.\n",
    "    :param theta: angle in radian\n",
    "    :return: quantum circuit\n",
    "    \"\"\"\n",
    "    q = QuantumRegister(3)\n",
    "    c = ClassicalRegister(3)\n",
    "    circuit = QuantumCircuit(q,c)\n",
    "    for i in range(3):  #----------------circuit depth\n",
    "        circuit.ccx(q[0],q[1],q[2] )\n",
    "        circuit.ry(theta[0],q[0])\n",
    "        circuit.ry(theta[1],q[1])\n",
    "        circuit.ry(theta[2],q[2])\n",
    "    return circuit"
   ]
  },
  {
   "cell_type": "markdown",
   "metadata": {},
   "source": [
    "### Sample Ansatz with 3 arbitrary angles"
   ]
  },
  {
   "cell_type": "code",
   "execution_count": 4,
   "metadata": {},
   "outputs": [
    {
     "output_type": "execute_result",
     "data": {
      "text/plain": "<Figure size 550.228x264.88 with 1 Axes>",
      "image/svg+xml": "<?xml version=\"1.0\" encoding=\"utf-8\" standalone=\"no\"?>\n<!DOCTYPE svg PUBLIC \"-//W3C//DTD SVG 1.1//EN\"\n  \"http://www.w3.org/Graphics/SVG/1.1/DTD/svg11.dtd\">\n<!-- Created with matplotlib (https://matplotlib.org/) -->\n<svg height=\"214.3844pt\" version=\"1.1\" viewBox=\"0 0 429.82214 214.3844\" width=\"429.82214pt\" xmlns=\"http://www.w3.org/2000/svg\" xmlns:xlink=\"http://www.w3.org/1999/xlink\">\n <defs>\n  <style type=\"text/css\">\n*{stroke-linecap:butt;stroke-linejoin:round;}\n  </style>\n </defs>\n <g id=\"figure_1\">\n  <g id=\"patch_1\">\n   <path d=\"M 0 214.3844 \nL 429.82214 214.3844 \nL 429.82214 0 \nL 0 0 \nz\n\" style=\"fill:#ffffff;\"/>\n  </g>\n  <g id=\"axes_1\">\n   <g id=\"line2d_1\">\n    <path clip-path=\"url(#p844f334c0a)\" d=\"M 122.64554 43.5608 \nL 418.07704 43.5608 \n\" style=\"fill:none;stroke:#000000;stroke-linecap:square;stroke-width:2;\"/>\n   </g>\n   <g id=\"line2d_2\">\n    <path clip-path=\"url(#p844f334c0a)\" d=\"M 122.64554 89.0118 \nL 418.07704 89.0118 \n\" style=\"fill:none;stroke:#000000;stroke-linecap:square;stroke-width:2;\"/>\n   </g>\n   <g id=\"line2d_3\">\n    <path clip-path=\"url(#p844f334c0a)\" d=\"M 122.64554 134.4628 \nL 418.07704 134.4628 \n\" style=\"fill:none;stroke:#000000;stroke-linecap:square;stroke-width:2;\"/>\n   </g>\n   <g id=\"line2d_4\">\n    <path clip-path=\"url(#p844f334c0a)\" d=\"M 122.64554 178.436643 \nL 418.07704 178.436643 \n\" style=\"fill:none;stroke:#778899;stroke-linecap:square;stroke-width:2;\"/>\n   </g>\n   <g id=\"line2d_5\">\n    <path clip-path=\"url(#p844f334c0a)\" d=\"M 122.64554 181.390958 \nL 418.07704 181.390958 \n\" style=\"fill:none;stroke:#778899;stroke-linecap:square;stroke-width:2;\"/>\n   </g>\n   <g id=\"line2d_6\">\n    <path clip-path=\"url(#p844f334c0a)\" d=\"M 145.37104 134.4628 \nL 145.37104 43.5608 \n\" style=\"fill:none;stroke:#bb8bff;stroke-linecap:square;stroke-width:2;\"/>\n   </g>\n   <g id=\"line2d_7\">\n    <path clip-path=\"url(#p844f334c0a)\" d=\"M 236.27304 134.4628 \nL 236.27304 43.5608 \n\" style=\"fill:none;stroke:#bb8bff;stroke-linecap:square;stroke-width:2;\"/>\n   </g>\n   <g id=\"line2d_8\">\n    <path clip-path=\"url(#p844f334c0a)\" d=\"M 327.17504 134.4628 \nL 327.17504 43.5608 \n\" style=\"fill:none;stroke:#bb8bff;stroke-linecap:square;stroke-width:2;\"/>\n   </g>\n   <g id=\"line2d_9\">\n    <path clip-path=\"url(#p844f334c0a)\" d=\"M 149.91614 184.4589 \nL 154.46124 175.3687 \n\" style=\"fill:none;stroke:#778899;stroke-linecap:square;stroke-width:1.5;\"/>\n   </g>\n   <g id=\"patch_2\">\n    <path clip-path=\"url(#p844f334c0a)\" d=\"M 145.37104 47.992272 \nC 146.54628 47.992272 147.673544 47.525345 148.504564 46.694324 \nC 149.335585 45.863304 149.802513 44.73604 149.802513 43.5608 \nC 149.802513 42.38556 149.335585 41.258296 148.504564 40.427276 \nC 147.673544 39.596255 146.54628 39.129328 145.37104 39.129328 \nC 144.1958 39.129328 143.068536 39.596255 142.237516 40.427276 \nC 141.406495 41.258296 140.939568 42.38556 140.939568 43.5608 \nC 140.939568 44.73604 141.406495 45.863304 142.237516 46.694324 \nC 143.068536 47.525345 144.1958 47.992272 145.37104 47.992272 \nz\n\" style=\"fill:#bb8bff;stroke:#bb8bff;stroke-linejoin:miter;stroke-width:1.5;\"/>\n   </g>\n   <g id=\"patch_3\">\n    <path clip-path=\"url(#p844f334c0a)\" d=\"M 145.37104 93.443272 \nC 146.54628 93.443272 147.673544 92.976345 148.504564 92.145324 \nC 149.335585 91.314304 149.802513 90.18704 149.802513 89.0118 \nC 149.802513 87.83656 149.335585 86.709296 148.504564 85.878276 \nC 147.673544 85.047255 146.54628 84.580327 145.37104 84.580327 \nC 144.1958 84.580327 143.068536 85.047255 142.237516 85.878276 \nC 141.406495 86.709296 140.939568 87.83656 140.939568 89.0118 \nC 140.939568 90.18704 141.406495 91.314304 142.237516 92.145324 \nC 143.068536 92.976345 144.1958 93.443272 145.37104 93.443272 \nz\n\" style=\"fill:#bb8bff;stroke:#bb8bff;stroke-linejoin:miter;stroke-width:1.5;\"/>\n   </g>\n   <g id=\"patch_4\">\n    <path clip-path=\"url(#p844f334c0a)\" d=\"M 145.37104 144.802903 \nC 148.113267 144.802903 150.743549 143.713404 152.682597 141.774357 \nC 154.621644 139.835309 155.711143 137.205027 155.711143 134.4628 \nC 155.711143 131.720573 154.621644 129.090291 152.682597 127.151243 \nC 150.743549 125.212196 148.113267 124.122698 145.37104 124.122698 \nC 142.628813 124.122698 139.998531 125.212196 138.059483 127.151243 \nC 136.120436 129.090291 135.030938 131.720573 135.030938 134.4628 \nC 135.030938 137.205027 136.120436 139.835309 138.059483 141.774357 \nC 139.998531 143.713404 142.628813 144.802903 145.37104 144.802903 \nz\n\" style=\"fill:#bb8bff;stroke:#bb8bff;stroke-linejoin:miter;stroke-width:2;\"/>\n   </g>\n   <g id=\"patch_5\">\n    <path clip-path=\"url(#p844f334c0a)\" d=\"M 176.050465 58.332375 \nL 205.593615 58.332375 \nL 205.593615 28.789225 \nL 176.050465 28.789225 \nz\n\" style=\"fill:#bb8bff;\"/>\n   </g>\n   <g id=\"patch_6\">\n    <path clip-path=\"url(#p844f334c0a)\" d=\"M 176.050465 103.783375 \nL 205.593615 103.783375 \nL 205.593615 74.240225 \nL 176.050465 74.240225 \nz\n\" style=\"fill:#bb8bff;\"/>\n   </g>\n   <g id=\"patch_7\">\n    <path clip-path=\"url(#p844f334c0a)\" d=\"M 176.050465 149.234375 \nL 205.593615 149.234375 \nL 205.593615 119.691225 \nL 176.050465 119.691225 \nz\n\" style=\"fill:#bb8bff;\"/>\n   </g>\n   <g id=\"patch_8\">\n    <path clip-path=\"url(#p844f334c0a)\" d=\"M 236.27304 47.992272 \nC 237.44828 47.992272 238.575544 47.525345 239.406564 46.694324 \nC 240.237585 45.863304 240.704513 44.73604 240.704513 43.5608 \nC 240.704513 42.38556 240.237585 41.258296 239.406564 40.427276 \nC 238.575544 39.596255 237.44828 39.129328 236.27304 39.129328 \nC 235.0978 39.129328 233.970536 39.596255 233.139516 40.427276 \nC 232.308495 41.258296 231.841568 42.38556 231.841568 43.5608 \nC 231.841568 44.73604 232.308495 45.863304 233.139516 46.694324 \nC 233.970536 47.525345 235.0978 47.992272 236.27304 47.992272 \nz\n\" style=\"fill:#bb8bff;stroke:#bb8bff;stroke-linejoin:miter;stroke-width:1.5;\"/>\n   </g>\n   <g id=\"patch_9\">\n    <path clip-path=\"url(#p844f334c0a)\" d=\"M 236.27304 93.443272 \nC 237.44828 93.443272 238.575544 92.976345 239.406564 92.145324 \nC 240.237585 91.314304 240.704513 90.18704 240.704513 89.0118 \nC 240.704513 87.83656 240.237585 86.709296 239.406564 85.878276 \nC 238.575544 85.047255 237.44828 84.580327 236.27304 84.580327 \nC 235.0978 84.580327 233.970536 85.047255 233.139516 85.878276 \nC 232.308495 86.709296 231.841568 87.83656 231.841568 89.0118 \nC 231.841568 90.18704 232.308495 91.314304 233.139516 92.145324 \nC 233.970536 92.976345 235.0978 93.443272 236.27304 93.443272 \nz\n\" style=\"fill:#bb8bff;stroke:#bb8bff;stroke-linejoin:miter;stroke-width:1.5;\"/>\n   </g>\n   <g id=\"patch_10\">\n    <path clip-path=\"url(#p844f334c0a)\" d=\"M 236.27304 144.802903 \nC 239.015267 144.802903 241.645549 143.713404 243.584597 141.774357 \nC 245.523644 139.835309 246.613143 137.205027 246.613143 134.4628 \nC 246.613143 131.720573 245.523644 129.090291 243.584597 127.151243 \nC 241.645549 125.212196 239.015267 124.122698 236.27304 124.122698 \nC 233.530813 124.122698 230.900531 125.212196 228.961483 127.151243 \nC 227.022436 129.090291 225.932938 131.720573 225.932938 134.4628 \nC 225.932938 137.205027 227.022436 139.835309 228.961483 141.774357 \nC 230.900531 143.713404 233.530813 144.802903 236.27304 144.802903 \nz\n\" style=\"fill:#bb8bff;stroke:#bb8bff;stroke-linejoin:miter;stroke-width:2;\"/>\n   </g>\n   <g id=\"patch_11\">\n    <path clip-path=\"url(#p844f334c0a)\" d=\"M 266.952465 58.332375 \nL 296.495615 58.332375 \nL 296.495615 28.789225 \nL 266.952465 28.789225 \nz\n\" style=\"fill:#bb8bff;\"/>\n   </g>\n   <g id=\"patch_12\">\n    <path clip-path=\"url(#p844f334c0a)\" d=\"M 266.952465 103.783375 \nL 296.495615 103.783375 \nL 296.495615 74.240225 \nL 266.952465 74.240225 \nz\n\" style=\"fill:#bb8bff;\"/>\n   </g>\n   <g id=\"patch_13\">\n    <path clip-path=\"url(#p844f334c0a)\" d=\"M 266.952465 149.234375 \nL 296.495615 149.234375 \nL 296.495615 119.691225 \nL 266.952465 119.691225 \nz\n\" style=\"fill:#bb8bff;\"/>\n   </g>\n   <g id=\"patch_14\">\n    <path clip-path=\"url(#p844f334c0a)\" d=\"M 327.17504 47.992272 \nC 328.35028 47.992272 329.477544 47.525345 330.308564 46.694324 \nC 331.139585 45.863304 331.606513 44.73604 331.606513 43.5608 \nC 331.606513 42.38556 331.139585 41.258296 330.308564 40.427276 \nC 329.477544 39.596255 328.35028 39.129328 327.17504 39.129328 \nC 325.9998 39.129328 324.872536 39.596255 324.041516 40.427276 \nC 323.210495 41.258296 322.743568 42.38556 322.743568 43.5608 \nC 322.743568 44.73604 323.210495 45.863304 324.041516 46.694324 \nC 324.872536 47.525345 325.9998 47.992272 327.17504 47.992272 \nz\n\" style=\"fill:#bb8bff;stroke:#bb8bff;stroke-linejoin:miter;stroke-width:1.5;\"/>\n   </g>\n   <g id=\"patch_15\">\n    <path clip-path=\"url(#p844f334c0a)\" d=\"M 327.17504 93.443272 \nC 328.35028 93.443272 329.477544 92.976345 330.308564 92.145324 \nC 331.139585 91.314304 331.606513 90.18704 331.606513 89.0118 \nC 331.606513 87.83656 331.139585 86.709296 330.308564 85.878276 \nC 329.477544 85.047255 328.35028 84.580327 327.17504 84.580327 \nC 325.9998 84.580327 324.872536 85.047255 324.041516 85.878276 \nC 323.210495 86.709296 322.743568 87.83656 322.743568 89.0118 \nC 322.743568 90.18704 323.210495 91.314304 324.041516 92.145324 \nC 324.872536 92.976345 325.9998 93.443272 327.17504 93.443272 \nz\n\" style=\"fill:#bb8bff;stroke:#bb8bff;stroke-linejoin:miter;stroke-width:1.5;\"/>\n   </g>\n   <g id=\"patch_16\">\n    <path clip-path=\"url(#p844f334c0a)\" d=\"M 327.17504 144.802903 \nC 329.917267 144.802903 332.547549 143.713404 334.486597 141.774357 \nC 336.425644 139.835309 337.515143 137.205027 337.515143 134.4628 \nC 337.515143 131.720573 336.425644 129.090291 334.486597 127.151243 \nC 332.547549 125.212196 329.917267 124.122698 327.17504 124.122698 \nC 324.432813 124.122698 321.802531 125.212196 319.863483 127.151243 \nC 317.924436 129.090291 316.834938 131.720573 316.834938 134.4628 \nC 316.834938 137.205027 317.924436 139.835309 319.863483 141.774357 \nC 321.802531 143.713404 324.432813 144.802903 327.17504 144.802903 \nz\n\" style=\"fill:#bb8bff;stroke:#bb8bff;stroke-linejoin:miter;stroke-width:2;\"/>\n   </g>\n   <g id=\"patch_17\">\n    <path clip-path=\"url(#p844f334c0a)\" d=\"M 357.854465 58.332375 \nL 387.397615 58.332375 \nL 387.397615 28.789225 \nL 357.854465 28.789225 \nz\n\" style=\"fill:#bb8bff;\"/>\n   </g>\n   <g id=\"patch_18\">\n    <path clip-path=\"url(#p844f334c0a)\" d=\"M 357.854465 103.783375 \nL 387.397615 103.783375 \nL 387.397615 74.240225 \nL 357.854465 74.240225 \nz\n\" style=\"fill:#bb8bff;\"/>\n   </g>\n   <g id=\"patch_19\">\n    <path clip-path=\"url(#p844f334c0a)\" d=\"M 357.854465 149.234375 \nL 387.397615 149.234375 \nL 387.397615 119.691225 \nL 357.854465 119.691225 \nz\n\" style=\"fill:#bb8bff;\"/>\n   </g>\n   <g id=\"line2d_10\">\n    <path clip-path=\"url(#p844f334c0a)\" d=\"M 145.37104 140.37143 \nL 145.37104 128.55417 \n\" style=\"fill:none;stroke:#ffffff;stroke-linecap:square;stroke-width:2;\"/>\n   </g>\n   <g id=\"line2d_11\">\n    <path clip-path=\"url(#p844f334c0a)\" d=\"M 139.46241 134.4628 \nL 151.27967 134.4628 \n\" style=\"fill:none;stroke:#ffffff;stroke-linecap:square;stroke-width:2;\"/>\n   </g>\n   <g id=\"line2d_12\">\n    <path clip-path=\"url(#p844f334c0a)\" d=\"M 236.27304 140.37143 \nL 236.27304 128.55417 \n\" style=\"fill:none;stroke:#ffffff;stroke-linecap:square;stroke-width:2;\"/>\n   </g>\n   <g id=\"line2d_13\">\n    <path clip-path=\"url(#p844f334c0a)\" d=\"M 230.36441 134.4628 \nL 242.18167 134.4628 \n\" style=\"fill:none;stroke:#ffffff;stroke-linecap:square;stroke-width:2;\"/>\n   </g>\n   <g id=\"line2d_14\">\n    <path clip-path=\"url(#p844f334c0a)\" d=\"M 327.17504 140.37143 \nL 327.17504 128.55417 \n\" style=\"fill:none;stroke:#ffffff;stroke-linecap:square;stroke-width:2;\"/>\n   </g>\n   <g id=\"line2d_15\">\n    <path clip-path=\"url(#p844f334c0a)\" d=\"M 321.26641 134.4628 \nL 333.08367 134.4628 \n\" style=\"fill:none;stroke:#ffffff;stroke-linecap:square;stroke-width:2;\"/>\n   </g>\n   <g id=\"text_1\">\n    <g clip-path=\"url(#p844f334c0a)\">\n     <!-- $R_y$ -->\n     <defs>\n      <path d=\"M 25.203125 64.796875 \nL 20.21875 38.921875 \nL 32.90625 38.921875 \nQ 40.375 38.921875 44.984375 43.046875 \nQ 49.609375 47.171875 49.609375 53.8125 \nQ 49.609375 59.125 46.5 61.953125 \nQ 43.40625 64.796875 37.59375 64.796875 \nz\nM 43.3125 35.015625 \nQ 46.4375 34.28125 48.515625 31.390625 \nQ 50.59375 28.515625 53.328125 19.921875 \nL 59.515625 0 \nL 49.125 0 \nL 43.40625 18.703125 \nQ 41.21875 25.921875 38.328125 28.359375 \nQ 35.453125 30.8125 29.5 30.8125 \nL 18.609375 30.8125 \nL 12.59375 0 \nL 2.6875 0 \nL 16.890625 72.90625 \nL 39.109375 72.90625 \nQ 49.21875 72.90625 54.609375 68.328125 \nQ 60.015625 63.765625 60.015625 55.171875 \nQ 60.015625 47.5625 55.421875 41.984375 \nQ 50.828125 36.421875 43.3125 35.015625 \nz\n\" id=\"DejaVuSans-Oblique-82\"/>\n      <path d=\"M 24.8125 -5.078125 \nQ 18.5625 -15.578125 14.625 -18.1875 \nQ 10.6875 -20.796875 4.59375 -20.796875 \nL -2.484375 -20.796875 \nL -0.984375 -13.28125 \nL 4.203125 -13.28125 \nQ 7.953125 -13.28125 10.59375 -11.234375 \nQ 13.234375 -9.1875 16.5 -3.21875 \nL 19.28125 2 \nL 7.171875 54.6875 \nL 16.703125 54.6875 \nL 25.78125 12.796875 \nL 50.875 54.6875 \nL 60.296875 54.6875 \nz\n\" id=\"DejaVuSans-Oblique-121\"/>\n     </defs>\n     <g transform=\"translate(183.41204 41.859327)scale(0.13 -0.13)\">\n      <use transform=\"translate(0 0.09375)\" xlink:href=\"#DejaVuSans-Oblique-82\"/>\n      <use transform=\"translate(69.482422 -16.3125)scale(0.7)\" xlink:href=\"#DejaVuSans-Oblique-121\"/>\n     </g>\n    </g>\n   </g>\n   <g id=\"text_2\">\n    <g clip-path=\"url(#p844f334c0a)\">\n     <!-- $\\pi$ -->\n     <defs>\n      <path d=\"M 9.125 54.6875 \nL 61.53125 54.6875 \nL 59.765625 45.703125 \nL 52.875 45.703125 \nL 46.34375 12.109375 \nQ 45.65625 8.59375 46.578125 7.03125 \nQ 47.46875 5.515625 50.140625 5.515625 \nQ 50.875 5.515625 51.953125 5.671875 \nQ 53.078125 5.765625 53.421875 5.8125 \nL 52.15625 -0.6875 \nQ 50.34375 -1.3125 48.484375 -1.609375 \nQ 46.578125 -1.90625 44.78125 -1.90625 \nQ 38.921875 -1.90625 37.3125 1.265625 \nQ 35.6875 4.5 37.359375 13.09375 \nL 43.703125 45.703125 \nL 23.53125 45.703125 \nL 14.65625 0 \nL 5.46875 0 \nL 14.359375 45.703125 \nL 7.375 45.703125 \nz\n\" id=\"DejaVuSans-Oblique-960\"/>\n     </defs>\n     <g transform=\"translate(188.38204 54.631245)scale(0.08 -0.08)\">\n      <use transform=\"translate(0 0.3125)\" xlink:href=\"#DejaVuSans-Oblique-960\"/>\n     </g>\n    </g>\n   </g>\n   <g id=\"text_3\">\n    <g clip-path=\"url(#p844f334c0a)\">\n     <!-- $R_y$ -->\n     <g transform=\"translate(183.41204 87.310328)scale(0.13 -0.13)\">\n      <use transform=\"translate(0 0.09375)\" xlink:href=\"#DejaVuSans-Oblique-82\"/>\n      <use transform=\"translate(69.482422 -16.3125)scale(0.7)\" xlink:href=\"#DejaVuSans-Oblique-121\"/>\n     </g>\n    </g>\n   </g>\n   <g id=\"text_4\">\n    <g clip-path=\"url(#p844f334c0a)\">\n     <!-- $\\pi$/2 -->\n     <defs>\n      <path d=\"M 25.390625 72.90625 \nL 33.6875 72.90625 \nL 8.296875 -9.28125 \nL 0 -9.28125 \nz\n\" id=\"DejaVuSans-47\"/>\n      <path d=\"M 19.1875 8.296875 \nL 53.609375 8.296875 \nL 53.609375 0 \nL 7.328125 0 \nL 7.328125 8.296875 \nQ 12.9375 14.109375 22.625 23.890625 \nQ 32.328125 33.6875 34.8125 36.53125 \nQ 39.546875 41.84375 41.421875 45.53125 \nQ 43.3125 49.21875 43.3125 52.78125 \nQ 43.3125 58.59375 39.234375 62.25 \nQ 35.15625 65.921875 28.609375 65.921875 \nQ 23.96875 65.921875 18.8125 64.3125 \nQ 13.671875 62.703125 7.8125 59.421875 \nL 7.8125 69.390625 \nQ 13.765625 71.78125 18.9375 73 \nQ 24.125 74.21875 28.421875 74.21875 \nQ 39.75 74.21875 46.484375 68.546875 \nQ 53.21875 62.890625 53.21875 53.421875 \nQ 53.21875 48.921875 51.53125 44.890625 \nQ 49.859375 40.875 45.40625 35.40625 \nQ 44.1875 33.984375 37.640625 27.21875 \nQ 31.109375 20.453125 19.1875 8.296875 \nz\n\" id=\"DejaVuSans-50\"/>\n     </defs>\n     <g transform=\"translate(184.50204 100.082245)scale(0.08 -0.08)\">\n      <use transform=\"translate(0 0.78125)\" xlink:href=\"#DejaVuSans-Oblique-960\"/>\n      <use transform=\"translate(60.205078 0.78125)\" xlink:href=\"#DejaVuSans-47\"/>\n      <use transform=\"translate(93.849609 0.78125)\" xlink:href=\"#DejaVuSans-50\"/>\n     </g>\n    </g>\n   </g>\n   <g id=\"text_5\">\n    <g clip-path=\"url(#p844f334c0a)\">\n     <!-- $R_y$ -->\n     <g transform=\"translate(183.41204 132.761327)scale(0.13 -0.13)\">\n      <use transform=\"translate(0 0.09375)\" xlink:href=\"#DejaVuSans-Oblique-82\"/>\n      <use transform=\"translate(69.482422 -16.3125)scale(0.7)\" xlink:href=\"#DejaVuSans-Oblique-121\"/>\n     </g>\n    </g>\n   </g>\n   <g id=\"text_6\">\n    <g clip-path=\"url(#p844f334c0a)\">\n     <!-- $\\pi$/3 -->\n     <defs>\n      <path d=\"M 40.578125 39.3125 \nQ 47.65625 37.796875 51.625 33 \nQ 55.609375 28.21875 55.609375 21.1875 \nQ 55.609375 10.40625 48.1875 4.484375 \nQ 40.765625 -1.421875 27.09375 -1.421875 \nQ 22.515625 -1.421875 17.65625 -0.515625 \nQ 12.796875 0.390625 7.625 2.203125 \nL 7.625 11.71875 \nQ 11.71875 9.328125 16.59375 8.109375 \nQ 21.484375 6.890625 26.8125 6.890625 \nQ 36.078125 6.890625 40.9375 10.546875 \nQ 45.796875 14.203125 45.796875 21.1875 \nQ 45.796875 27.640625 41.28125 31.265625 \nQ 36.765625 34.90625 28.71875 34.90625 \nL 20.21875 34.90625 \nL 20.21875 43.015625 \nL 29.109375 43.015625 \nQ 36.375 43.015625 40.234375 45.921875 \nQ 44.09375 48.828125 44.09375 54.296875 \nQ 44.09375 59.90625 40.109375 62.90625 \nQ 36.140625 65.921875 28.71875 65.921875 \nQ 24.65625 65.921875 20.015625 65.03125 \nQ 15.375 64.15625 9.8125 62.3125 \nL 9.8125 71.09375 \nQ 15.4375 72.65625 20.34375 73.4375 \nQ 25.25 74.21875 29.59375 74.21875 \nQ 40.828125 74.21875 47.359375 69.109375 \nQ 53.90625 64.015625 53.90625 55.328125 \nQ 53.90625 49.265625 50.4375 45.09375 \nQ 46.96875 40.921875 40.578125 39.3125 \nz\n\" id=\"DejaVuSans-51\"/>\n     </defs>\n     <g transform=\"translate(184.50204 145.533245)scale(0.08 -0.08)\">\n      <use transform=\"translate(0 0.78125)\" xlink:href=\"#DejaVuSans-Oblique-960\"/>\n      <use transform=\"translate(60.205078 0.78125)\" xlink:href=\"#DejaVuSans-47\"/>\n      <use transform=\"translate(93.896484 0.78125)\" xlink:href=\"#DejaVuSans-51\"/>\n     </g>\n    </g>\n   </g>\n   <g id=\"text_7\">\n    <g clip-path=\"url(#p844f334c0a)\">\n     <!-- $R_y$ -->\n     <g transform=\"translate(274.31404 41.859327)scale(0.13 -0.13)\">\n      <use transform=\"translate(0 0.09375)\" xlink:href=\"#DejaVuSans-Oblique-82\"/>\n      <use transform=\"translate(69.482422 -16.3125)scale(0.7)\" xlink:href=\"#DejaVuSans-Oblique-121\"/>\n     </g>\n    </g>\n   </g>\n   <g id=\"text_8\">\n    <g clip-path=\"url(#p844f334c0a)\">\n     <!-- $\\pi$ -->\n     <g transform=\"translate(279.28404 54.631245)scale(0.08 -0.08)\">\n      <use transform=\"translate(0 0.3125)\" xlink:href=\"#DejaVuSans-Oblique-960\"/>\n     </g>\n    </g>\n   </g>\n   <g id=\"text_9\">\n    <g clip-path=\"url(#p844f334c0a)\">\n     <!-- $R_y$ -->\n     <g transform=\"translate(274.31404 87.310328)scale(0.13 -0.13)\">\n      <use transform=\"translate(0 0.09375)\" xlink:href=\"#DejaVuSans-Oblique-82\"/>\n      <use transform=\"translate(69.482422 -16.3125)scale(0.7)\" xlink:href=\"#DejaVuSans-Oblique-121\"/>\n     </g>\n    </g>\n   </g>\n   <g id=\"text_10\">\n    <g clip-path=\"url(#p844f334c0a)\">\n     <!-- $\\pi$/2 -->\n     <g transform=\"translate(275.40404 100.082245)scale(0.08 -0.08)\">\n      <use transform=\"translate(0 0.78125)\" xlink:href=\"#DejaVuSans-Oblique-960\"/>\n      <use transform=\"translate(60.205078 0.78125)\" xlink:href=\"#DejaVuSans-47\"/>\n      <use transform=\"translate(93.849609 0.78125)\" xlink:href=\"#DejaVuSans-50\"/>\n     </g>\n    </g>\n   </g>\n   <g id=\"text_11\">\n    <g clip-path=\"url(#p844f334c0a)\">\n     <!-- $R_y$ -->\n     <g transform=\"translate(274.31404 132.761327)scale(0.13 -0.13)\">\n      <use transform=\"translate(0 0.09375)\" xlink:href=\"#DejaVuSans-Oblique-82\"/>\n      <use transform=\"translate(69.482422 -16.3125)scale(0.7)\" xlink:href=\"#DejaVuSans-Oblique-121\"/>\n     </g>\n    </g>\n   </g>\n   <g id=\"text_12\">\n    <g clip-path=\"url(#p844f334c0a)\">\n     <!-- $\\pi$/3 -->\n     <g transform=\"translate(275.40404 145.533245)scale(0.08 -0.08)\">\n      <use transform=\"translate(0 0.78125)\" xlink:href=\"#DejaVuSans-Oblique-960\"/>\n      <use transform=\"translate(60.205078 0.78125)\" xlink:href=\"#DejaVuSans-47\"/>\n      <use transform=\"translate(93.896484 0.78125)\" xlink:href=\"#DejaVuSans-51\"/>\n     </g>\n    </g>\n   </g>\n   <g id=\"text_13\">\n    <g clip-path=\"url(#p844f334c0a)\">\n     <!-- $R_y$ -->\n     <g transform=\"translate(365.21604 41.859327)scale(0.13 -0.13)\">\n      <use transform=\"translate(0 0.09375)\" xlink:href=\"#DejaVuSans-Oblique-82\"/>\n      <use transform=\"translate(69.482422 -16.3125)scale(0.7)\" xlink:href=\"#DejaVuSans-Oblique-121\"/>\n     </g>\n    </g>\n   </g>\n   <g id=\"text_14\">\n    <g clip-path=\"url(#p844f334c0a)\">\n     <!-- $\\pi$ -->\n     <g transform=\"translate(370.18604 54.631245)scale(0.08 -0.08)\">\n      <use transform=\"translate(0 0.3125)\" xlink:href=\"#DejaVuSans-Oblique-960\"/>\n     </g>\n    </g>\n   </g>\n   <g id=\"text_15\">\n    <g clip-path=\"url(#p844f334c0a)\">\n     <!-- $R_y$ -->\n     <g transform=\"translate(365.21604 87.310328)scale(0.13 -0.13)\">\n      <use transform=\"translate(0 0.09375)\" xlink:href=\"#DejaVuSans-Oblique-82\"/>\n      <use transform=\"translate(69.482422 -16.3125)scale(0.7)\" xlink:href=\"#DejaVuSans-Oblique-121\"/>\n     </g>\n    </g>\n   </g>\n   <g id=\"text_16\">\n    <g clip-path=\"url(#p844f334c0a)\">\n     <!-- $\\pi$/2 -->\n     <g transform=\"translate(366.30604 100.082245)scale(0.08 -0.08)\">\n      <use transform=\"translate(0 0.78125)\" xlink:href=\"#DejaVuSans-Oblique-960\"/>\n      <use transform=\"translate(60.205078 0.78125)\" xlink:href=\"#DejaVuSans-47\"/>\n      <use transform=\"translate(93.849609 0.78125)\" xlink:href=\"#DejaVuSans-50\"/>\n     </g>\n    </g>\n   </g>\n   <g id=\"text_17\">\n    <g clip-path=\"url(#p844f334c0a)\">\n     <!-- $R_y$ -->\n     <g transform=\"translate(365.21604 132.761327)scale(0.13 -0.13)\">\n      <use transform=\"translate(0 0.09375)\" xlink:href=\"#DejaVuSans-Oblique-82\"/>\n      <use transform=\"translate(69.482422 -16.3125)scale(0.7)\" xlink:href=\"#DejaVuSans-Oblique-121\"/>\n     </g>\n    </g>\n   </g>\n   <g id=\"text_18\">\n    <g clip-path=\"url(#p844f334c0a)\">\n     <!-- $\\pi$/3 -->\n     <g transform=\"translate(366.30604 145.533245)scale(0.08 -0.08)\">\n      <use transform=\"translate(0 0.78125)\" xlink:href=\"#DejaVuSans-Oblique-960\"/>\n      <use transform=\"translate(60.205078 0.78125)\" xlink:href=\"#DejaVuSans-47\"/>\n      <use transform=\"translate(93.896484 0.78125)\" xlink:href=\"#DejaVuSans-51\"/>\n     </g>\n    </g>\n   </g>\n   <g id=\"text_19\">\n    <g clip-path=\"url(#p844f334c0a)\">\n     <!-- ${q0}_{0}$ -->\n     <defs>\n      <path d=\"M 41.703125 8.203125 \nQ 38.09375 3.46875 33.171875 1.015625 \nQ 28.265625 -1.421875 22.3125 -1.421875 \nQ 14.015625 -1.421875 9.296875 4.171875 \nQ 4.59375 9.765625 4.59375 19.578125 \nQ 4.59375 27.484375 7.5 34.859375 \nQ 10.40625 42.234375 15.828125 48.09375 \nQ 19.34375 51.90625 23.90625 53.953125 \nQ 28.46875 56 33.5 56 \nQ 39.546875 56 43.453125 53.609375 \nQ 47.359375 51.21875 49.125 46.390625 \nL 50.6875 54.59375 \nL 59.71875 54.59375 \nL 45.125 -20.609375 \nL 36.078125 -20.609375 \nz\nM 13.921875 20.90625 \nQ 13.921875 13.671875 16.9375 9.890625 \nQ 19.96875 6.109375 25.6875 6.109375 \nQ 34.1875 6.109375 40.1875 14.234375 \nQ 46.1875 22.359375 46.1875 33.984375 \nQ 46.1875 41.015625 43.078125 44.75 \nQ 39.984375 48.484375 34.1875 48.484375 \nQ 29.9375 48.484375 26.3125 46.5 \nQ 22.703125 44.53125 20.015625 40.71875 \nQ 17.1875 36.71875 15.546875 31.34375 \nQ 13.921875 25.984375 13.921875 20.90625 \nz\n\" id=\"DejaVuSans-Oblique-113\"/>\n      <path d=\"M 31.78125 66.40625 \nQ 24.171875 66.40625 20.328125 58.90625 \nQ 16.5 51.421875 16.5 36.375 \nQ 16.5 21.390625 20.328125 13.890625 \nQ 24.171875 6.390625 31.78125 6.390625 \nQ 39.453125 6.390625 43.28125 13.890625 \nQ 47.125 21.390625 47.125 36.375 \nQ 47.125 51.421875 43.28125 58.90625 \nQ 39.453125 66.40625 31.78125 66.40625 \nz\nM 31.78125 74.21875 \nQ 44.046875 74.21875 50.515625 64.515625 \nQ 56.984375 54.828125 56.984375 36.375 \nQ 56.984375 17.96875 50.515625 8.265625 \nQ 44.046875 -1.421875 31.78125 -1.421875 \nQ 19.53125 -1.421875 13.0625 8.265625 \nQ 6.59375 17.96875 6.59375 36.375 \nQ 6.59375 54.828125 13.0625 64.515625 \nQ 19.53125 74.21875 31.78125 74.21875 \nz\n\" id=\"DejaVuSans-48\"/>\n     </defs>\n     <g transform=\"translate(71.32004 48.011777)scale(0.1625 -0.1625)\">\n      <use transform=\"translate(0 0.78125)\" xlink:href=\"#DejaVuSans-Oblique-113\"/>\n      <use transform=\"translate(63.476562 0.78125)\" xlink:href=\"#DejaVuSans-48\"/>\n      <use transform=\"translate(128.056641 -15.625)scale(0.7)\" xlink:href=\"#DejaVuSans-48\"/>\n     </g>\n    </g>\n   </g>\n   <g id=\"text_20\">\n    <g clip-path=\"url(#p844f334c0a)\">\n     <!-- ${q0}_{1}$ -->\n     <defs>\n      <path d=\"M 12.40625 8.296875 \nL 28.515625 8.296875 \nL 28.515625 63.921875 \nL 10.984375 60.40625 \nL 10.984375 69.390625 \nL 28.421875 72.90625 \nL 38.28125 72.90625 \nL 38.28125 8.296875 \nL 54.390625 8.296875 \nL 54.390625 0 \nL 12.40625 0 \nz\n\" id=\"DejaVuSans-49\"/>\n     </defs>\n     <g transform=\"translate(71.32004 93.462777)scale(0.1625 -0.1625)\">\n      <use transform=\"translate(0 0.78125)\" xlink:href=\"#DejaVuSans-Oblique-113\"/>\n      <use transform=\"translate(63.476562 0.78125)\" xlink:href=\"#DejaVuSans-48\"/>\n      <use transform=\"translate(128.056641 -15.625)scale(0.7)\" xlink:href=\"#DejaVuSans-49\"/>\n     </g>\n    </g>\n   </g>\n   <g id=\"text_21\">\n    <g clip-path=\"url(#p844f334c0a)\">\n     <!-- ${q0}_{2}$ -->\n     <g transform=\"translate(71.32004 138.913777)scale(0.1625 -0.1625)\">\n      <use transform=\"translate(0 0.78125)\" xlink:href=\"#DejaVuSans-Oblique-113\"/>\n      <use transform=\"translate(63.476562 0.78125)\" xlink:href=\"#DejaVuSans-48\"/>\n      <use transform=\"translate(128.056641 -15.625)scale(0.7)\" xlink:href=\"#DejaVuSans-50\"/>\n     </g>\n    </g>\n   </g>\n   <g id=\"text_22\">\n    <g clip-path=\"url(#p844f334c0a)\">\n     <!-- 3 -->\n     <g transform=\"translate(145.37104 173.205825)scale(0.104 -0.104)\">\n      <use xlink:href=\"#DejaVuSans-51\"/>\n     </g>\n    </g>\n   </g>\n   <g id=\"text_23\">\n    <g clip-path=\"url(#p844f334c0a)\">\n     <!-- $c0$ -->\n     <defs>\n      <path d=\"M 53.609375 52.59375 \nL 51.8125 43.703125 \nQ 48.578125 46.046875 44.9375 47.21875 \nQ 41.3125 48.390625 37.40625 48.390625 \nQ 33.109375 48.390625 29.21875 46.875 \nQ 25.34375 45.359375 22.703125 42.578125 \nQ 18.5 38.328125 16.203125 32.609375 \nQ 13.921875 26.90625 13.921875 20.796875 \nQ 13.921875 13.421875 17.609375 9.8125 \nQ 21.296875 6.203125 28.8125 6.203125 \nQ 32.515625 6.203125 36.6875 7.328125 \nQ 40.875 8.453125 45.40625 10.6875 \nL 43.703125 1.8125 \nQ 39.796875 0.203125 35.671875 -0.609375 \nQ 31.546875 -1.421875 27.203125 -1.421875 \nQ 16.3125 -1.421875 10.453125 4.015625 \nQ 4.59375 9.46875 4.59375 19.578125 \nQ 4.59375 28.078125 7.640625 35.234375 \nQ 10.6875 42.390625 16.703125 48.09375 \nQ 20.796875 52 26.3125 54 \nQ 31.84375 56 38.375 56 \nQ 42.1875 56 45.9375 55.140625 \nQ 49.703125 54.296875 53.609375 52.59375 \nz\n\" id=\"DejaVuSans-Oblique-99\"/>\n     </defs>\n     <g transform=\"translate(76.71504 185.294581)scale(0.195 -0.195)\">\n      <use transform=\"translate(0 0.78125)\" xlink:href=\"#DejaVuSans-Oblique-99\"/>\n      <use transform=\"translate(54.980469 0.78125)\" xlink:href=\"#DejaVuSans-48\"/>\n     </g>\n    </g>\n   </g>\n  </g>\n </g>\n <defs>\n  <clipPath id=\"p844f334c0a\">\n   <rect height=\"199.9844\" width=\"415.42214\" x=\"7.2\" y=\"7.2\"/>\n  </clipPath>\n </defs>\n</svg>\n",
      "image/png": "[encoded data removed]"
     },
     "metadata": {},
     "execution_count": 4
    }
   ],
   "source": [
    "theta = [np.pi,np.pi/2,np.pi/3]\n",
    "parametric_state(theta).draw(output='mpl')"
   ]
  },
  {
   "cell_type": "markdown",
   "metadata": {},
   "source": [
    "Above Hamiltonian can be decomposed to fermionic basis\n",
    " $$Hamiltonian =  0.2XZX + 0.9XIX + 0.3ZZZ $$\n",
    "\n",
    "Where $X,Z$ are pauli's spin matrices and $I$ is the Identity matrix. In this section we developed 3 functions for these 3 sub-hamiltonians, which gives expectation value of each sub-hamiltonian.\n",
    "  $$Hamiltonian =  H_{1} + H_{2} + H_{3} $$\n",
    "Where $ H_{1} = 0.2XZX $   ,       $  H_{2} = 0.9XIX $    ,     $ H_{3} = 0.3ZZZ $ are the sub-hamiltonians\n",
    "\n",
    "\n",
    "Since the Pauli $X$ has +1, -1 eigenvalues for its respective basis, we know we'll get the same outcome for expectation. This means our above equation for calculating expectation from probabilities works for them too. \n",
    "\n",
    "** Changing basis **\n",
    "\n",
    "Finally we have to measure the Pauli observables in their respective eigenbases. \n",
    "\n",
    "\n",
    "$Z \\otimes Z\\otimes Z$ has the computational basis as its eigenbasis, so we don't need to do anything. \n",
    "\n",
    "$X \\otimes Z\\otimes X$ and $X \\otimes I\\otimes X$  has the Hadamard basis as its eigenbasis, since $X \\ket{+} = \\ket{+}$ and $X \\ket{-} = - \\ket{-}$. So we need to apply a basis transformation that maps $\\ket{+}, \\ket{-} \\rightarrow \\ket{0}, \\ket{1}$. Of course, the Hadamard gate does this, so we need to just apply it to both qubits in the ansatz. "
   ]
  },
  {
   "cell_type": "code",
   "execution_count": 5,
   "metadata": {},
   "outputs": [],
   "source": [
    "## All the necessary functions for the algorithm is written here ##\n",
    "\n",
    "def XZX(theta): #--------------------------------------------H1\n",
    "    \"\"\"\n",
    "    Gives expectation value of XZX\n",
    "    sub-hamiltonian from measurement\n",
    "    on parametric state.\n",
    "    :param theta: angle in radian\n",
    "    :return: expectation value of XZX\n",
    "    \"\"\"\n",
    "    circuit = parametric_state(theta)\n",
    "    ###########  Basis Transformation on XZX ###########\n",
    "    q = circuit.qregs[0]\n",
    "    c = circuit.cregs[0]\n",
    "    circuit.ry(-np.pi/2, q[0])\n",
    "    circuit.ry(-np.pi/2, q[2])\n",
    "    circuit.measure(q,c)\n",
    "    ############  XZX measurement  ##############\n",
    "    exp_XZX = measurement(circuit)\n",
    "    return exp_XZX\n",
    "    \n",
    "def XIX(theta): #-------------------------------------------H2\n",
    "    \"\"\"\n",
    "    Gives expectation value of XIX\n",
    "    sub-hamiltonian from measurement\n",
    "    on parametric state.\n",
    "    :param theta: angle in radian\n",
    "    :return: expectation value of XIX\n",
    "    \"\"\"\n",
    "    circuit = parametric_state(theta)\n",
    "    ########### Basis Transformation on XIX #########\n",
    "    q = circuit.qregs[0]\n",
    "    c = circuit.cregs[0]\n",
    "    circuit.ry(-np.pi/2, q[0])\n",
    "    circuit.ry(-np.pi/2, q[2])\n",
    "    circuit.measure(q,c)\n",
    "    ############ XIX Measurement ###########  \n",
    "    exp_XIX = measurement(circuit)\n",
    "    return exp_XIX\n",
    "\n",
    "def ZZZ(theta): #-------------------------------------------H3\n",
    "    \"\"\"\n",
    "    Gives expectation value of ZZZ\n",
    "    sub-hamiltonian from measurement\n",
    "    on parametric state.\n",
    "    :param theta: angle in radian\n",
    "    :return: expectation value of ZZZ\n",
    "    \"\"\"\n",
    "    circuit = parametric_state(theta)\n",
    "    ##########################################\n",
    "    q = circuit.qregs[0]\n",
    "    c = circuit.cregs[0]\n",
    "    circuit.measure(q,c)\n",
    "    ###########  ZZ measurement ###############  \n",
    "    exp_ZZZ = measurement(circuit)\n",
    "    return exp_ZZZ\n",
    ""
   ]
  },
  {
   "cell_type": "markdown",
   "metadata": {},
   "source": [
    "This $vqe$ function adds up the expectation value of all the sub hamiltonians for all parametric(angles) states and return total expectation value of the complete hamiltonian. "
   ]
  },
  {
   "cell_type": "code",
   "execution_count": 6,
   "metadata": {},
   "outputs": [],
   "source": [
    "def vqe(theta):    #------------------- creates ansatz measures and performs addition to get the eigen value\n",
    "    \"\"\"\n",
    "    Contain the complete Hamiltonian\n",
    "    :param theta: angle is radian\n",
    "    :return: expectation value of whole hamiltonian\n",
    "    \"\"\"                                                           \n",
    "    E = (0.2*XZX(theta)) + (0.9*XIX(theta)) + (0.3*ZZZ(theta))    ## H = 0.2XZX + 0.9XIX + 0.3ZZZ\n",
    "    return E"
   ]
  },
  {
   "cell_type": "markdown",
   "metadata": {},
   "source": [
    "\"key_check\" will be used to extract number of counts of each basis state of this 3 qubit system"
   ]
  },
  {
   "cell_type": "code",
   "execution_count": 7,
   "metadata": {},
   "outputs": [],
   "source": [
    "def key_check(my_dict: dict, my_key: str):\n",
    "    \"\"\"\n",
    "    If key is missing returns 0\n",
    "    otherwise the corresponding value.\n",
    "    :param my_dict: the dictionary\n",
    "    :param my_key: key (string)\n",
    "    :return: 0 or value corresponding to key\n",
    "    \"\"\"\n",
    "    response = 0\n",
    "    if my_key in my_dict:\n",
    "        response = my_dict[my_key]\n",
    "    return response"
   ]
  },
  {
   "cell_type": "markdown",
   "metadata": {},
   "source": [
    "$measurement$ is used to perform measurement of every qubits in |0> , |1> basis gives the total expectation value\n",
    "This is our main quantum modeule"
   ]
  },
  {
   "cell_type": "code",
   "execution_count": 8,
   "metadata": {},
   "outputs": [],
   "source": [
    "def measurement(circuit):  # ------------------ Takes a quantum circuit and perform measurement\n",
    "    \"\"\"\n",
    "    Takes the quantum circuit as\n",
    "    input to perform measurement\n",
    "    :param circuit: quantumm circuit\n",
    "    :return: expectation value\n",
    "    \"\"\"\n",
    "    shots =1024\n",
    "    backend = BasicAer.get_backend('qasm_simulator')\n",
    "    job = execute(circuit, backend, shots=shots)\n",
    "    result = job.result()\n",
    "    counts = result.get_counts()\n",
    "    n100 = key_check(counts,'100')\n",
    "    n111 = key_check(counts,'111')\n",
    "    n001 = key_check(counts,'001')\n",
    "    n010 = key_check(counts,'010')\n",
    "    n000 = key_check(counts,'000')\n",
    "    n101 = key_check(counts,'101')\n",
    "    n110 = key_check(counts,'110')\n",
    "    n011 = key_check(counts,'011')\n",
    "    expectation_value = ((n000+n111)-(n100+n001+n010+n101+n110+n011))/shots \n",
    "    return expectation_value"
   ]
  },
  {
   "cell_type": "markdown",
   "metadata": {},
   "source": [
    "As per the idea of VQE for optimization of Ansatz parameters we need to use some classical algorithm. Here we are using  Scipy \"Powell\" optimizer. We could have used other classical optimizers like COBYLA, Nelder-Mead etc"
   ]
  },
  {
   "cell_type": "code",
   "execution_count": 9,
   "metadata": {},
   "outputs": [
    {
     "output_type": "stream",
     "name": "stdout",
     "text": "Ground state energy from VQE is -1.4000000000000001\nSuccess Status: True , Optimization terminated successfully.\n"
    }
   ],
   "source": [
    "###########  VQE by Scipy Optimizers  ##############\n",
    "theta = [2*np.pi,2*np.pi,2*np.pi]\n",
    "result = minimize(vqe, theta, method=\"Powell\")\n",
    "print('Ground state energy from VQE is {}'.format(result.fun))\n",
    "print('Success Status:',result.success,',',result.message)"
   ]
  },
  {
   "cell_type": "markdown",
   "metadata": {},
   "source": [
    "### References\n",
    "1. \"Quantum Algorithms: Variational-Quantum-Eigensolver\" by \n",
    "Dawid Kopczyk  http://dkopczyk.quantee.co.uk/vqe/#easy-footnote-2\n",
    "2. Implementation of 2 qubit VQE https://github.com/speQtrum/qreepy/blob/master/2_qubit_VQE.ipynb\n",
    "3. \"Variational Quantum Eigensolver explained\" by Michał Stęchły  https://www.mustythoughts.com/post/variational-quantum-eigensolver-explained\n",
    "4. \"Variational quantum eigensolver\" by Davit Khachatryan https://github.com/DavitKhach/quantum-algorithms-tutorials/blob/master/variational_quantum_eigensolver.ipynb"
   ]
  },
  {
   "cell_type": "code",
   "execution_count": null,
   "metadata": {},
   "outputs": [],
   "source": []
  }
 ]
}