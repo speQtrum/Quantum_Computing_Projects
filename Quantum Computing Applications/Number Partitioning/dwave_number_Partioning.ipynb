{
 "metadata": {
  "language_info": {
   "codemirror_mode": {
    "name": "ipython",
    "version": 3
   },
   "file_extension": ".py",
   "mimetype": "text/x-python",
   "name": "python",
   "nbconvert_exporter": "python",
   "pygments_lexer": "ipython3",
   "version": "3.6.13-final"
  },
  "orig_nbformat": 2,
  "kernelspec": {
   "name": "python3",
   "display_name": "Python 3.6.13 64-bit ('ising_env': conda)",
   "metadata": {
    "interpreter": {
     "hash": "c6e842e841a45ed89d537027384962cfb6aec6f48a7dc63c2dbb61087ffd3d81"
    }
   }
  }
 },
 "nbformat": 4,
 "nbformat_minor": 2,
 "cells": [
  {
   "cell_type": "code",
   "execution_count": 1,
   "metadata": {},
   "outputs": [],
   "source": [
    "import numpy as np\n",
    "import pandas as pd\n",
    "import dimod\n",
    "from dwave.system import EmbeddingComposite, DWaveSampler, LeapHybridSampler"
   ]
  },
  {
   "cell_type": "code",
   "execution_count": 2,
   "metadata": {},
   "outputs": [],
   "source": [
    "## QUBO formulation of Number partition problem\n",
    "\n",
    "def qubo(N):\n",
    "    q = np.zeros((len(N),len(N)))\n",
    "    c = np.sum(N)\n",
    "    for i in range(len(N)):\n",
    "        for j in range(len(N)):\n",
    "            if i==j:\n",
    "                q[i,j]= N[i]*(N[j]-c)\n",
    "            elif i!=j:\n",
    "                q[i,j]=q[j,i]= N[i]*N[j]\n",
    "    return q\n"
   ]
  },
  {
   "cell_type": "code",
   "execution_count": 3,
   "metadata": {},
   "outputs": [
    {
     "output_type": "execute_result",
     "data": {
      "text/plain": [
       "array([[-84.,  12.,  48.,  18.,   6.],\n",
       "       [ 12., -36.,  16.,   6.,   2.],\n",
       "       [ 48.,  16., -96.,  24.,   8.],\n",
       "       [ 18.,   6.,  24., -51.,   3.],\n",
       "       [  6.,   2.,   8.,   3., -19.]])"
      ]
     },
     "metadata": {},
     "execution_count": 3
    }
   ],
   "source": [
    "## QUBO matrix generation for S\n",
    "\n",
    "S = np.array([6,2,8,3,1])\n",
    "qubo(S)"
   ]
  },
  {
   "cell_type": "code",
   "execution_count": 4,
   "metadata": {},
   "outputs": [
    {
     "output_type": "stream",
     "name": "stdout",
     "text": [
      "BinaryQuadraticModel({0: -84.0, 1: -36.0, 2: -96.0, 3: -51.0, 4: -19.0}, {(0, 1): 24.0, (0, 2): 96.0, (0, 3): 36.0, (0, 4): 12.0, (1, 2): 32.0, (1, 3): 12.0, (1, 4): 4.0, (2, 3): 48.0, (2, 4): 16.0, (3, 4): 6.0}, 0.0, 'BINARY')\n"
     ]
    }
   ],
   "source": [
    "## BQM generation from numpy matrix\n",
    "\n",
    "bqm_qubo = dimod.BinaryQuadraticModel.from_numpy_matrix(qubo(S))\n",
    "print(bqm_qubo)"
   ]
  },
  {
   "cell_type": "code",
   "execution_count": 5,
   "metadata": {},
   "outputs": [
    {
     "output_type": "stream",
     "name": "stdout",
     "text": [
      "   0  1  2  3  4 energy num_oc.\n0  1  0  0  1  1 -100.0       1\n['BINARY', 1 rows, 1 samples, 5 variables]\n\n\nSet 1: [0 2 8 0 0] sum: 10.0\nSet 2: [6 0 0 3 1] sum: 10\n"
     ]
    }
   ],
   "source": [
    "## Solving with Leap hybrid sampler\n",
    "\n",
    "\n",
    "sampleset = LeapHybridSampler().sample(bqm_qubo)\n",
    "print(sampleset)\n",
    "\n",
    "\n",
    "Set_1 = np.multiply(np.ones(len(S)) - sampleset.record[0][0],S)\n",
    "Set_2 = np.multiply(sampleset.record[0][0],S)\n",
    "\n",
    "print('\\n\\nSet 1:',Set_1.astype(int),'sum:',sum(Set_1))\n",
    "print('Set 2:',Set_2.astype(int),'sum:',sum(Set_2))"
   ]
  },
  {
   "cell_type": "code",
   "execution_count": null,
   "metadata": {},
   "outputs": [],
   "source": []
  }
 ]
}