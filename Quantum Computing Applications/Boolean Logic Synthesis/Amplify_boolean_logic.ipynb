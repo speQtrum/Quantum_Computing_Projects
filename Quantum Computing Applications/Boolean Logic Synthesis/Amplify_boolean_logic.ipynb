{
 "metadata": {
  "language_info": {
   "codemirror_mode": {
    "name": "ipython",
    "version": 3
   },
   "file_extension": ".py",
   "mimetype": "text/x-python",
   "name": "python",
   "nbconvert_exporter": "python",
   "pygments_lexer": "ipython3",
   "version": "3.6.13-final"
  },
  "orig_nbformat": 2,
  "kernelspec": {
   "name": "python3",
   "display_name": "Python 3.6.13 64-bit ('ising_env': conda)",
   "metadata": {
    "interpreter": {
     "hash": "c6e842e841a45ed89d537027384962cfb6aec6f48a7dc63c2dbb61087ffd3d81"
    }
   }
  }
 },
 "nbformat": 4,
 "nbformat_minor": 2,
 "cells": [
  {
   "cell_type": "code",
   "execution_count": 14,
   "metadata": {},
   "outputs": [],
   "source": [
    "from amplify import BinaryPoly, BinaryQuadraticModel, gen_symbols, Solver\n",
    "from amplify.client import FixstarsClient"
   ]
  },
  {
   "source": [
    "## **Simulating OR gate**"
   ],
   "cell_type": "markdown",
   "metadata": {}
  },
  {
   "cell_type": "code",
   "execution_count": 15,
   "metadata": {},
   "outputs": [
    {
     "output_type": "stream",
     "name": "stdout",
     "text": [
      "Variable array: [q_0, q_1, q_2]\nBinary Polynomial is: \n q_0 q_1 - 2.000000 q_0 q_2 - 2.000000 q_1 q_2 + q_0 + q_1 + q_2\n"
     ]
    }
   ],
   "source": [
    "q = gen_symbols(BinaryPoly,3)\n",
    "\n",
    "f = q[0] + q[1] + q[2] + q[0]*q[1] -2*q[1]*q[2] - 2*q[0]*q[2]  \n",
    "\n",
    "model = BinaryQuadraticModel(f)\n",
    "\n",
    "print('Variable array:',q)\n",
    "print('Binary Polynomial is: \\n',f)"
   ]
  },
  {
   "cell_type": "code",
   "execution_count": 16,
   "metadata": {},
   "outputs": [
    {
     "output_type": "stream",
     "name": "stdout",
     "text": [
      "Total number of allowed bits: 65536\nclient API: https://optigan.fixstars.com/\nFixstars client version: v0.3.2 \n\nenergy = 0.0\nvalues = {0: 0, 1: 1, 2: 1}\nenergy = 0.0\nvalues = {0: 0, 1: 0, 2: 0}\nenergy = 0.0\nvalues = {0: 1, 1: 0, 2: 1}\nenergy = 0.0\nvalues = {0: 1, 1: 1, 2: 1}\n"
     ]
    }
   ],
   "source": [
    "#####   Solving with Fixstars Client   #######\n",
    "\n",
    "client = FixstarsClient()\n",
    "client.token = \"mBle_KURyYutT.NDbsTpovEeCWf-vScH\"\n",
    "client.parameters.timeout = 1000\n",
    "client.parameters.outputs.duplicate = True  \n",
    "client.parameters.outputs.num_outputs = 0  \n",
    "\n",
    "######### client hardware property ########\n",
    "print('Total number of allowed bits:',client.num_bits)\n",
    "print('client API:',client.url)\n",
    "print('Fixstars client version:',client.version,'\\n')\n",
    "\n",
    "################## Solution #########################\n",
    "\n",
    "solver = Solver(client)\n",
    "result = solver.solve(model)\n",
    "for solution in result:\n",
    "    print(f\"energy = {solution.energy}\\nvalues = {solution.values}\")"
   ]
  },
  {
   "source": [
    "## **Simulating AND gate**"
   ],
   "cell_type": "markdown",
   "metadata": {}
  },
  {
   "cell_type": "code",
   "execution_count": 17,
   "metadata": {},
   "outputs": [
    {
     "output_type": "stream",
     "name": "stdout",
     "text": [
      "Variable array: [q_0, q_1, q_2]\nBinary Polynomial is: \n q_0 q_1 - 2.000000 q_0 q_2 - 2.000000 q_1 q_2 + 3.000000 q_2\n"
     ]
    }
   ],
   "source": [
    "q = gen_symbols(BinaryPoly,3)\n",
    "\n",
    "f = 3*q[2] + q[0]*q[1] -2*q[1]*q[2] - 2*q[0]*q[2]  \n",
    "\n",
    "model = BinaryQuadraticModel(f)\n",
    "\n",
    "print('Variable array:',q)\n",
    "print('Binary Polynomial is: \\n',f)"
   ]
  },
  {
   "cell_type": "code",
   "execution_count": 19,
   "metadata": {},
   "outputs": [
    {
     "output_type": "stream",
     "name": "stdout",
     "text": [
      "Total number of allowed bits: 65536\nclient API: https://optigan.fixstars.com/\nFixstars client version: v0.3.2 \n\nenergy = 0.0\nvalues = {0: 0, 1: 0, 2: 0}\nenergy = 0.0\nvalues = {0: 1, 1: 0, 2: 0}\nenergy = 0.0\nvalues = {0: 1, 1: 1, 2: 1}\nenergy = 0.0\nvalues = {0: 0, 1: 1, 2: 0}\n"
     ]
    }
   ],
   "source": [
    "#####   Solving with Fixstars Client   #######\n",
    "\n",
    "client = FixstarsClient()\n",
    "client.token = \"mBle_KURyYutT.NDbsTpovEeCWf-vScH\"\n",
    "client.parameters.timeout = 1000\n",
    "client.parameters.outputs.duplicate = True  \n",
    "client.parameters.outputs.num_outputs = 0  \n",
    "\n",
    "######### client hardware property ########\n",
    "print('Total number of allowed bits:',client.num_bits)\n",
    "print('client API:',client.url)\n",
    "print('Fixstars client version:',client.version,'\\n')\n",
    "\n",
    "#####   Solving with Fixstars Client   #######\n",
    "\n",
    "solver = Solver(client)\n",
    "result = solver.solve(model)\n",
    "for solution in result:\n",
    "    print(f\"energy = {solution.energy}\\nvalues = {solution.values}\")"
   ]
  },
  {
   "cell_type": "code",
   "execution_count": null,
   "metadata": {},
   "outputs": [],
   "source": []
  }
 ]
}