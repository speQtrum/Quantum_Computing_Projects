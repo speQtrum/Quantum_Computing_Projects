{
 "nbformat": 4,
 "nbformat_minor": 2,
 "metadata": {
  "language_info": {
   "name": "python",
   "codemirror_mode": {
    "name": "ipython",
    "version": 3
   },
   "version": "3.8.1-final"
  },
  "orig_nbformat": 2,
  "file_extension": ".py",
  "mimetype": "text/x-python",
  "name": "python",
  "npconvert_exporter": "python",
  "pygments_lexer": "ipython3",
  "version": 3,
  "kernelspec": {
   "name": "python38164bitqiskitenvconda860a5fef577343d5b67a3932c5a14e3b",
   "display_name": "Python 3.8.1 64-bit ('qiskit_env': conda)"
  }
 },
 "cells": [
  {
   "cell_type": "markdown",
   "metadata": {},
   "source": [
    "# Variational Quantum Eigen Solver on 3 Qubit Circuit\n",
    "Find the ground state energy eigen value of the given hamiltonian \n",
    "$$ Hamiltonian = \\begin{bmatrix} 0.3 & 0 & 0 & 0 & 0 & 1.1 & 0 & 0 \\\\ 0 & -0.3 & 0 & 0 & 1.1 & 0 & 0 & 0\\\\ 0 & 0 & -0.3 & 0 & 0 & 0 & 0 & 0.7 \\\\ 0 & 0 & 0 & 0.3 & 0 & 0 & 0.7 & 0 \\\\ 0 & 1.1 & 0 & 0 & -0.3 & 0 & 0 & 0 \\\\ 1.1 & 0 & 0 & 0 & 0 & 0.3 & 0 & 0 \\\\ 0 & 0 & 0 & 0.7 & 0 & 0 & 0.3 & 0 \\\\ 0 & 0 & 0.7 & 0 & 0 & 0 & 0 & -0.3 \\end{bmatrix}$$\n",
    "\n",
    "Above Hamiltonian can be decomposed to fermionic basis\n",
    " $$Hamiltonian =  0.2(X \\otimes Z \\otimes X) + 0.9(X \\otimes I \\otimes X) + 0.3(Z \\otimes Z \\otimes Z) $$\n",
    "\n",
    "Where $X,Z$ are pauli's spin matrices and $I$ is the Identity matrix\n"
   ]
  },
  {
   "cell_type": "markdown",
   "metadata": {},
   "source": [
    "### Exact solution with Scipy"
   ]
  },
  {
   "cell_type": "code",
   "execution_count": 9,
   "metadata": {},
   "outputs": [
    {
     "output_type": "stream",
     "name": "stdout",
     "text": "Lowest eigen value is: -1.4\n"
    }
   ],
   "source": [
    "X = np.array([[0,1],[1,0]])\n",
    "Z = np.array([[1,0],[0,-1]])\n",
    "I = np.array([[1,0],[0,1]])\n",
    "\n",
    "\n",
    "\n",
    "A = np.kron(X,np.kron(Z,X))\n",
    "B = np.kron(X,np.kron(I,X))\n",
    "C = np.kron(Z,np.kron(Z,Z))\n",
    "H = (0.2*A) + (0.9*B) + (0.3*C)\n",
    "\n",
    "#print(H)\n",
    "eig_val,eig_vec = np.linalg.eig(H)\n",
    "print('Lowest eigen value is:',round(eig_val.min(),2))"
   ]
  },
  {
   "cell_type": "code",
   "execution_count": 10,
   "metadata": {},
   "outputs": [],
   "source": [
    "import numpy as np\n",
    "from qiskit import QuantumCircuit, ClassicalRegister, QuantumRegister\n",
    "from qiskit import execute\n",
    "from qiskit import BasicAer as Aer\n",
    "from qiskit.tools.visualization import circuit_drawer, plot_histogram\n",
    "from scipy.optimize import minimize\n",
    "from scipy import array\n",
    "from random import random\n",
    "import matplotlib.pyplot as plt\n",
    "from qiskit import *\n",
    "#plt.style.use('dark_background')\n",
    "#style = {'backgroundcolor': '#282c34'}"
   ]
  },
  {
   "cell_type": "markdown",
   "metadata": {},
   "source": [
    "A choice of ANSATZ of specific choice with 3 variational parameters is given here with depth of 3"
   ]
  },
  {
   "cell_type": "code",
   "execution_count": 11,
   "metadata": {},
   "outputs": [],
   "source": [
    "def parametric_state(theta): #------------- Creates ANSATZ\n",
    "    \"\"\"\n",
    "    Creates ANSATZ with an \n",
    "    angle taking as parameter &\n",
    "    returns a quantum circuit.\n",
    "    :param theta: angle in radian\n",
    "    :return: quantum circuit\n",
    "    \"\"\"\n",
    "    q = QuantumRegister(3)\n",
    "    c = ClassicalRegister(3)\n",
    "    circuit = QuantumCircuit(q,c)\n",
    "    for i in range(3):  #----------------circuit depth\n",
    "        circuit.ccx(q[0],q[1],q[2] )\n",
    "        circuit.ry(theta[0],q[0])\n",
    "        circuit.ry(theta[1],q[1])\n",
    "        circuit.ry(theta[2],q[2])\n",
    "    return circuit"
   ]
  },
  {
   "cell_type": "code",
   "execution_count": 13,
   "metadata": {},
   "outputs": [
    {
     "output_type": "execute_result",
     "data": {
      "text/plain": "<Figure size 571.9x264.88 with 1 Axes>",
      "image/svg+xml": "<?xml version=\"1.0\" encoding=\"utf-8\" standalone=\"no\"?>\n<!DOCTYPE svg PUBLIC \"-//W3C//DTD SVG 1.1//EN\"\n  \"http://www.w3.org/Graphics/SVG/1.1/DTD/svg11.dtd\">\n<!-- Created with matplotlib (https://matplotlib.org/) -->\n<svg height=\"214.3844pt\" version=\"1.1\" viewBox=\"0 0 446.1845 214.3844\" width=\"446.1845pt\" xmlns=\"http://www.w3.org/2000/svg\" xmlns:xlink=\"http://www.w3.org/1999/xlink\">\n <defs>\n  <style type=\"text/css\">\n*{stroke-linecap:butt;stroke-linejoin:round;}\n  </style>\n </defs>\n <g id=\"figure_1\">\n  <g id=\"patch_1\">\n   <path d=\"M 0 214.3844 \nL 446.1845 214.3844 \nL 446.1845 0 \nL 0 0 \nz\n\" style=\"fill:#ffffff;\"/>\n  </g>\n  <g id=\"axes_1\">\n   <g id=\"line2d_1\">\n    <path clip-path=\"url(#p5e15086746)\" d=\"M 139.0079 43.5608 \nL 434.4394 43.5608 \n\" style=\"fill:none;stroke:#000000;stroke-linecap:square;stroke-width:2;\"/>\n   </g>\n   <g id=\"line2d_2\">\n    <path clip-path=\"url(#p5e15086746)\" d=\"M 139.0079 89.0118 \nL 434.4394 89.0118 \n\" style=\"fill:none;stroke:#000000;stroke-linecap:square;stroke-width:2;\"/>\n   </g>\n   <g id=\"line2d_3\">\n    <path clip-path=\"url(#p5e15086746)\" d=\"M 139.0079 134.4628 \nL 434.4394 134.4628 \n\" style=\"fill:none;stroke:#000000;stroke-linecap:square;stroke-width:2;\"/>\n   </g>\n   <g id=\"line2d_4\">\n    <path clip-path=\"url(#p5e15086746)\" d=\"M 139.0079 178.436643 \nL 434.4394 178.436643 \n\" style=\"fill:none;stroke:#778899;stroke-linecap:square;stroke-width:2;\"/>\n   </g>\n   <g id=\"line2d_5\">\n    <path clip-path=\"url(#p5e15086746)\" d=\"M 139.0079 181.390958 \nL 434.4394 181.390958 \n\" style=\"fill:none;stroke:#778899;stroke-linecap:square;stroke-width:2;\"/>\n   </g>\n   <g id=\"line2d_6\">\n    <path clip-path=\"url(#p5e15086746)\" d=\"M 161.7334 134.4628 \nL 161.7334 43.5608 \n\" style=\"fill:none;stroke:#bb8bff;stroke-linecap:square;stroke-width:2;\"/>\n   </g>\n   <g id=\"line2d_7\">\n    <path clip-path=\"url(#p5e15086746)\" d=\"M 252.6354 134.4628 \nL 252.6354 43.5608 \n\" style=\"fill:none;stroke:#bb8bff;stroke-linecap:square;stroke-width:2;\"/>\n   </g>\n   <g id=\"line2d_8\">\n    <path clip-path=\"url(#p5e15086746)\" d=\"M 343.5374 134.4628 \nL 343.5374 43.5608 \n\" style=\"fill:none;stroke:#bb8bff;stroke-linecap:square;stroke-width:2;\"/>\n   </g>\n   <g id=\"line2d_9\">\n    <path clip-path=\"url(#p5e15086746)\" d=\"M 166.2785 184.4589 \nL 170.8236 175.3687 \n\" style=\"fill:none;stroke:#778899;stroke-linecap:square;stroke-width:1.5;\"/>\n   </g>\n   <g id=\"patch_2\">\n    <path clip-path=\"url(#p5e15086746)\" d=\"M 161.7334 47.992272 \nC 162.90864 47.992272 164.035904 47.525345 164.866924 46.694324 \nC 165.697945 45.863304 166.164872 44.73604 166.164872 43.5608 \nC 166.164872 42.38556 165.697945 41.258296 164.866924 40.427276 \nC 164.035904 39.596255 162.90864 39.129328 161.7334 39.129328 \nC 160.55816 39.129328 159.430896 39.596255 158.599876 40.427276 \nC 157.768855 41.258296 157.301927 42.38556 157.301927 43.5608 \nC 157.301927 44.73604 157.768855 45.863304 158.599876 46.694324 \nC 159.430896 47.525345 160.55816 47.992272 161.7334 47.992272 \nz\n\" style=\"fill:#bb8bff;stroke:#bb8bff;stroke-linejoin:miter;stroke-width:1.5;\"/>\n   </g>\n   <g id=\"patch_3\">\n    <path clip-path=\"url(#p5e15086746)\" d=\"M 161.7334 93.443272 \nC 162.90864 93.443272 164.035904 92.976345 164.866924 92.145324 \nC 165.697945 91.314304 166.164872 90.18704 166.164872 89.0118 \nC 166.164872 87.83656 165.697945 86.709296 164.866924 85.878276 \nC 164.035904 85.047255 162.90864 84.580327 161.7334 84.580327 \nC 160.55816 84.580327 159.430896 85.047255 158.599876 85.878276 \nC 157.768855 86.709296 157.301927 87.83656 157.301927 89.0118 \nC 157.301927 90.18704 157.768855 91.314304 158.599876 92.145324 \nC 159.430896 92.976345 160.55816 93.443272 161.7334 93.443272 \nz\n\" style=\"fill:#bb8bff;stroke:#bb8bff;stroke-linejoin:miter;stroke-width:1.5;\"/>\n   </g>\n   <g id=\"patch_4\">\n    <path clip-path=\"url(#p5e15086746)\" d=\"M 161.7334 144.802903 \nC 164.475627 144.802903 167.105909 143.713404 169.044957 141.774357 \nC 170.984004 139.835309 172.073502 137.205027 172.073502 134.4628 \nC 172.073502 131.720573 170.984004 129.090291 169.044957 127.151243 \nC 167.105909 125.212196 164.475627 124.122698 161.7334 124.122698 \nC 158.991173 124.122698 156.360891 125.212196 154.421843 127.151243 \nC 152.482796 129.090291 151.393297 131.720573 151.393297 134.4628 \nC 151.393297 137.205027 152.482796 139.835309 154.421843 141.774357 \nC 156.360891 143.713404 158.991173 144.802903 161.7334 144.802903 \nz\n\" style=\"fill:#bb8bff;stroke:#bb8bff;stroke-linejoin:miter;stroke-width:2;\"/>\n   </g>\n   <g id=\"patch_5\">\n    <path clip-path=\"url(#p5e15086746)\" d=\"M 192.412825 58.332375 \nL 221.955975 58.332375 \nL 221.955975 28.789225 \nL 192.412825 28.789225 \nz\n\" style=\"fill:#bb8bff;\"/>\n   </g>\n   <g id=\"patch_6\">\n    <path clip-path=\"url(#p5e15086746)\" d=\"M 192.412825 103.783375 \nL 221.955975 103.783375 \nL 221.955975 74.240225 \nL 192.412825 74.240225 \nz\n\" style=\"fill:#bb8bff;\"/>\n   </g>\n   <g id=\"patch_7\">\n    <path clip-path=\"url(#p5e15086746)\" d=\"M 192.412825 149.234375 \nL 221.955975 149.234375 \nL 221.955975 119.691225 \nL 192.412825 119.691225 \nz\n\" style=\"fill:#bb8bff;\"/>\n   </g>\n   <g id=\"patch_8\">\n    <path clip-path=\"url(#p5e15086746)\" d=\"M 252.6354 47.992272 \nC 253.81064 47.992272 254.937904 47.525345 255.768924 46.694324 \nC 256.599945 45.863304 257.066872 44.73604 257.066872 43.5608 \nC 257.066872 42.38556 256.599945 41.258296 255.768924 40.427276 \nC 254.937904 39.596255 253.81064 39.129328 252.6354 39.129328 \nC 251.46016 39.129328 250.332896 39.596255 249.501876 40.427276 \nC 248.670855 41.258296 248.203927 42.38556 248.203927 43.5608 \nC 248.203927 44.73604 248.670855 45.863304 249.501876 46.694324 \nC 250.332896 47.525345 251.46016 47.992272 252.6354 47.992272 \nz\n\" style=\"fill:#bb8bff;stroke:#bb8bff;stroke-linejoin:miter;stroke-width:1.5;\"/>\n   </g>\n   <g id=\"patch_9\">\n    <path clip-path=\"url(#p5e15086746)\" d=\"M 252.6354 93.443272 \nC 253.81064 93.443272 254.937904 92.976345 255.768924 92.145324 \nC 256.599945 91.314304 257.066872 90.18704 257.066872 89.0118 \nC 257.066872 87.83656 256.599945 86.709296 255.768924 85.878276 \nC 254.937904 85.047255 253.81064 84.580327 252.6354 84.580327 \nC 251.46016 84.580327 250.332896 85.047255 249.501876 85.878276 \nC 248.670855 86.709296 248.203927 87.83656 248.203927 89.0118 \nC 248.203927 90.18704 248.670855 91.314304 249.501876 92.145324 \nC 250.332896 92.976345 251.46016 93.443272 252.6354 93.443272 \nz\n\" style=\"fill:#bb8bff;stroke:#bb8bff;stroke-linejoin:miter;stroke-width:1.5;\"/>\n   </g>\n   <g id=\"patch_10\">\n    <path clip-path=\"url(#p5e15086746)\" d=\"M 252.6354 144.802903 \nC 255.377627 144.802903 258.007909 143.713404 259.946957 141.774357 \nC 261.886004 139.835309 262.975502 137.205027 262.975502 134.4628 \nC 262.975502 131.720573 261.886004 129.090291 259.946957 127.151243 \nC 258.007909 125.212196 255.377627 124.122698 252.6354 124.122698 \nC 249.893173 124.122698 247.262891 125.212196 245.323843 127.151243 \nC 243.384796 129.090291 242.295297 131.720573 242.295297 134.4628 \nC 242.295297 137.205027 243.384796 139.835309 245.323843 141.774357 \nC 247.262891 143.713404 249.893173 144.802903 252.6354 144.802903 \nz\n\" style=\"fill:#bb8bff;stroke:#bb8bff;stroke-linejoin:miter;stroke-width:2;\"/>\n   </g>\n   <g id=\"patch_11\">\n    <path clip-path=\"url(#p5e15086746)\" d=\"M 283.314825 58.332375 \nL 312.857975 58.332375 \nL 312.857975 28.789225 \nL 283.314825 28.789225 \nz\n\" style=\"fill:#bb8bff;\"/>\n   </g>\n   <g id=\"patch_12\">\n    <path clip-path=\"url(#p5e15086746)\" d=\"M 283.314825 103.783375 \nL 312.857975 103.783375 \nL 312.857975 74.240225 \nL 283.314825 74.240225 \nz\n\" style=\"fill:#bb8bff;\"/>\n   </g>\n   <g id=\"patch_13\">\n    <path clip-path=\"url(#p5e15086746)\" d=\"M 283.314825 149.234375 \nL 312.857975 149.234375 \nL 312.857975 119.691225 \nL 283.314825 119.691225 \nz\n\" style=\"fill:#bb8bff;\"/>\n   </g>\n   <g id=\"patch_14\">\n    <path clip-path=\"url(#p5e15086746)\" d=\"M 343.5374 47.992272 \nC 344.71264 47.992272 345.839904 47.525345 346.670924 46.694324 \nC 347.501945 45.863304 347.968872 44.73604 347.968872 43.5608 \nC 347.968872 42.38556 347.501945 41.258296 346.670924 40.427276 \nC 345.839904 39.596255 344.71264 39.129328 343.5374 39.129328 \nC 342.36216 39.129328 341.234896 39.596255 340.403876 40.427276 \nC 339.572855 41.258296 339.105928 42.38556 339.105928 43.5608 \nC 339.105928 44.73604 339.572855 45.863304 340.403876 46.694324 \nC 341.234896 47.525345 342.36216 47.992272 343.5374 47.992272 \nz\n\" style=\"fill:#bb8bff;stroke:#bb8bff;stroke-linejoin:miter;stroke-width:1.5;\"/>\n   </g>\n   <g id=\"patch_15\">\n    <path clip-path=\"url(#p5e15086746)\" d=\"M 343.5374 93.443272 \nC 344.71264 93.443272 345.839904 92.976345 346.670924 92.145324 \nC 347.501945 91.314304 347.968872 90.18704 347.968872 89.0118 \nC 347.968872 87.83656 347.501945 86.709296 346.670924 85.878276 \nC 345.839904 85.047255 344.71264 84.580327 343.5374 84.580327 \nC 342.36216 84.580327 341.234896 85.047255 340.403876 85.878276 \nC 339.572855 86.709296 339.105928 87.83656 339.105928 89.0118 \nC 339.105928 90.18704 339.572855 91.314304 340.403876 92.145324 \nC 341.234896 92.976345 342.36216 93.443272 343.5374 93.443272 \nz\n\" style=\"fill:#bb8bff;stroke:#bb8bff;stroke-linejoin:miter;stroke-width:1.5;\"/>\n   </g>\n   <g id=\"patch_16\">\n    <path clip-path=\"url(#p5e15086746)\" d=\"M 343.5374 144.802903 \nC 346.279627 144.802903 348.909909 143.713404 350.848957 141.774357 \nC 352.788004 139.835309 353.877502 137.205027 353.877502 134.4628 \nC 353.877502 131.720573 352.788004 129.090291 350.848957 127.151243 \nC 348.909909 125.212196 346.279627 124.122698 343.5374 124.122698 \nC 340.795173 124.122698 338.164891 125.212196 336.225843 127.151243 \nC 334.286796 129.090291 333.197297 131.720573 333.197297 134.4628 \nC 333.197297 137.205027 334.286796 139.835309 336.225843 141.774357 \nC 338.164891 143.713404 340.795173 144.802903 343.5374 144.802903 \nz\n\" style=\"fill:#bb8bff;stroke:#bb8bff;stroke-linejoin:miter;stroke-width:2;\"/>\n   </g>\n   <g id=\"patch_17\">\n    <path clip-path=\"url(#p5e15086746)\" d=\"M 374.216825 58.332375 \nL 403.759975 58.332375 \nL 403.759975 28.789225 \nL 374.216825 28.789225 \nz\n\" style=\"fill:#bb8bff;\"/>\n   </g>\n   <g id=\"patch_18\">\n    <path clip-path=\"url(#p5e15086746)\" d=\"M 374.216825 103.783375 \nL 403.759975 103.783375 \nL 403.759975 74.240225 \nL 374.216825 74.240225 \nz\n\" style=\"fill:#bb8bff;\"/>\n   </g>\n   <g id=\"patch_19\">\n    <path clip-path=\"url(#p5e15086746)\" d=\"M 374.216825 149.234375 \nL 403.759975 149.234375 \nL 403.759975 119.691225 \nL 374.216825 119.691225 \nz\n\" style=\"fill:#bb8bff;\"/>\n   </g>\n   <g id=\"line2d_10\">\n    <path clip-path=\"url(#p5e15086746)\" d=\"M 161.7334 140.37143 \nL 161.7334 128.55417 \n\" style=\"fill:none;stroke:#ffffff;stroke-linecap:square;stroke-width:2;\"/>\n   </g>\n   <g id=\"line2d_11\">\n    <path clip-path=\"url(#p5e15086746)\" d=\"M 155.82477 134.4628 \nL 167.64203 134.4628 \n\" style=\"fill:none;stroke:#ffffff;stroke-linecap:square;stroke-width:2;\"/>\n   </g>\n   <g id=\"line2d_12\">\n    <path clip-path=\"url(#p5e15086746)\" d=\"M 252.6354 140.37143 \nL 252.6354 128.55417 \n\" style=\"fill:none;stroke:#ffffff;stroke-linecap:square;stroke-width:2;\"/>\n   </g>\n   <g id=\"line2d_13\">\n    <path clip-path=\"url(#p5e15086746)\" d=\"M 246.72677 134.4628 \nL 258.54403 134.4628 \n\" style=\"fill:none;stroke:#ffffff;stroke-linecap:square;stroke-width:2;\"/>\n   </g>\n   <g id=\"line2d_14\">\n    <path clip-path=\"url(#p5e15086746)\" d=\"M 343.5374 140.37143 \nL 343.5374 128.55417 \n\" style=\"fill:none;stroke:#ffffff;stroke-linecap:square;stroke-width:2;\"/>\n   </g>\n   <g id=\"line2d_15\">\n    <path clip-path=\"url(#p5e15086746)\" d=\"M 337.62877 134.4628 \nL 349.44603 134.4628 \n\" style=\"fill:none;stroke:#ffffff;stroke-linecap:square;stroke-width:2;\"/>\n   </g>\n   <g id=\"text_1\">\n    <g clip-path=\"url(#p5e15086746)\">\n     <!-- $R_y$ -->\n     <defs>\n      <path d=\"M 25.203125 64.796875 \nL 20.21875 38.921875 \nL 32.90625 38.921875 \nQ 40.375 38.921875 44.984375 43.046875 \nQ 49.609375 47.171875 49.609375 53.8125 \nQ 49.609375 59.125 46.5 61.953125 \nQ 43.40625 64.796875 37.59375 64.796875 \nz\nM 43.3125 35.015625 \nQ 46.4375 34.28125 48.515625 31.390625 \nQ 50.59375 28.515625 53.328125 19.921875 \nL 59.515625 0 \nL 49.125 0 \nL 43.40625 18.703125 \nQ 41.21875 25.921875 38.328125 28.359375 \nQ 35.453125 30.8125 29.5 30.8125 \nL 18.609375 30.8125 \nL 12.59375 0 \nL 2.6875 0 \nL 16.890625 72.90625 \nL 39.109375 72.90625 \nQ 49.21875 72.90625 54.609375 68.328125 \nQ 60.015625 63.765625 60.015625 55.171875 \nQ 60.015625 47.5625 55.421875 41.984375 \nQ 50.828125 36.421875 43.3125 35.015625 \nz\n\" id=\"DejaVuSans-Oblique-82\"/>\n      <path d=\"M 24.8125 -5.078125 \nQ 18.5625 -15.578125 14.625 -18.1875 \nQ 10.6875 -20.796875 4.59375 -20.796875 \nL -2.484375 -20.796875 \nL -0.984375 -13.28125 \nL 4.203125 -13.28125 \nQ 7.953125 -13.28125 10.59375 -11.234375 \nQ 13.234375 -9.1875 16.5 -3.21875 \nL 19.28125 2 \nL 7.171875 54.6875 \nL 16.703125 54.6875 \nL 25.78125 12.796875 \nL 50.875 54.6875 \nL 60.296875 54.6875 \nz\n\" id=\"DejaVuSans-Oblique-121\"/>\n     </defs>\n     <g transform=\"translate(199.7744 41.859327)scale(0.13 -0.13)\">\n      <use transform=\"translate(0 0.09375)\" xlink:href=\"#DejaVuSans-Oblique-82\"/>\n      <use transform=\"translate(69.482422 -16.3125)scale(0.7)\" xlink:href=\"#DejaVuSans-Oblique-121\"/>\n     </g>\n    </g>\n   </g>\n   <g id=\"text_2\">\n    <g clip-path=\"url(#p5e15086746)\">\n     <!-- $\\pi$ -->\n     <defs>\n      <path d=\"M 9.125 54.6875 \nL 61.53125 54.6875 \nL 59.765625 45.703125 \nL 52.875 45.703125 \nL 46.34375 12.109375 \nQ 45.65625 8.59375 46.578125 7.03125 \nQ 47.46875 5.515625 50.140625 5.515625 \nQ 50.875 5.515625 51.953125 5.671875 \nQ 53.078125 5.765625 53.421875 5.8125 \nL 52.15625 -0.6875 \nQ 50.34375 -1.3125 48.484375 -1.609375 \nQ 46.578125 -1.90625 44.78125 -1.90625 \nQ 38.921875 -1.90625 37.3125 1.265625 \nQ 35.6875 4.5 37.359375 13.09375 \nL 43.703125 45.703125 \nL 23.53125 45.703125 \nL 14.65625 0 \nL 5.46875 0 \nL 14.359375 45.703125 \nL 7.375 45.703125 \nz\n\" id=\"DejaVuSans-Oblique-960\"/>\n     </defs>\n     <g transform=\"translate(204.7444 54.631245)scale(0.08 -0.08)\">\n      <use transform=\"translate(0 0.3125)\" xlink:href=\"#DejaVuSans-Oblique-960\"/>\n     </g>\n    </g>\n   </g>\n   <g id=\"text_3\">\n    <g clip-path=\"url(#p5e15086746)\">\n     <!-- $R_y$ -->\n     <g transform=\"translate(199.7744 87.310328)scale(0.13 -0.13)\">\n      <use transform=\"translate(0 0.09375)\" xlink:href=\"#DejaVuSans-Oblique-82\"/>\n      <use transform=\"translate(69.482422 -16.3125)scale(0.7)\" xlink:href=\"#DejaVuSans-Oblique-121\"/>\n     </g>\n    </g>\n   </g>\n   <g id=\"text_4\">\n    <g clip-path=\"url(#p5e15086746)\">\n     <!-- $\\pi$/2 -->\n     <defs>\n      <path d=\"M 25.390625 72.90625 \nL 33.6875 72.90625 \nL 8.296875 -9.28125 \nL 0 -9.28125 \nz\n\" id=\"DejaVuSans-47\"/>\n      <path d=\"M 19.1875 8.296875 \nL 53.609375 8.296875 \nL 53.609375 0 \nL 7.328125 0 \nL 7.328125 8.296875 \nQ 12.9375 14.109375 22.625 23.890625 \nQ 32.328125 33.6875 34.8125 36.53125 \nQ 39.546875 41.84375 41.421875 45.53125 \nQ 43.3125 49.21875 43.3125 52.78125 \nQ 43.3125 58.59375 39.234375 62.25 \nQ 35.15625 65.921875 28.609375 65.921875 \nQ 23.96875 65.921875 18.8125 64.3125 \nQ 13.671875 62.703125 7.8125 59.421875 \nL 7.8125 69.390625 \nQ 13.765625 71.78125 18.9375 73 \nQ 24.125 74.21875 28.421875 74.21875 \nQ 39.75 74.21875 46.484375 68.546875 \nQ 53.21875 62.890625 53.21875 53.421875 \nQ 53.21875 48.921875 51.53125 44.890625 \nQ 49.859375 40.875 45.40625 35.40625 \nQ 44.1875 33.984375 37.640625 27.21875 \nQ 31.109375 20.453125 19.1875 8.296875 \nz\n\" id=\"DejaVuSans-50\"/>\n     </defs>\n     <g transform=\"translate(200.8644 100.082245)scale(0.08 -0.08)\">\n      <use transform=\"translate(0 0.78125)\" xlink:href=\"#DejaVuSans-Oblique-960\"/>\n      <use transform=\"translate(60.205078 0.78125)\" xlink:href=\"#DejaVuSans-47\"/>\n      <use transform=\"translate(93.849609 0.78125)\" xlink:href=\"#DejaVuSans-50\"/>\n     </g>\n    </g>\n   </g>\n   <g id=\"text_5\">\n    <g clip-path=\"url(#p5e15086746)\">\n     <!-- $R_y$ -->\n     <g transform=\"translate(199.7744 132.761327)scale(0.13 -0.13)\">\n      <use transform=\"translate(0 0.09375)\" xlink:href=\"#DejaVuSans-Oblique-82\"/>\n      <use transform=\"translate(69.482422 -16.3125)scale(0.7)\" xlink:href=\"#DejaVuSans-Oblique-121\"/>\n     </g>\n    </g>\n   </g>\n   <g id=\"text_6\">\n    <g clip-path=\"url(#p5e15086746)\">\n     <!-- $\\pi$/3 -->\n     <defs>\n      <path d=\"M 40.578125 39.3125 \nQ 47.65625 37.796875 51.625 33 \nQ 55.609375 28.21875 55.609375 21.1875 \nQ 55.609375 10.40625 48.1875 4.484375 \nQ 40.765625 -1.421875 27.09375 -1.421875 \nQ 22.515625 -1.421875 17.65625 -0.515625 \nQ 12.796875 0.390625 7.625 2.203125 \nL 7.625 11.71875 \nQ 11.71875 9.328125 16.59375 8.109375 \nQ 21.484375 6.890625 26.8125 6.890625 \nQ 36.078125 6.890625 40.9375 10.546875 \nQ 45.796875 14.203125 45.796875 21.1875 \nQ 45.796875 27.640625 41.28125 31.265625 \nQ 36.765625 34.90625 28.71875 34.90625 \nL 20.21875 34.90625 \nL 20.21875 43.015625 \nL 29.109375 43.015625 \nQ 36.375 43.015625 40.234375 45.921875 \nQ 44.09375 48.828125 44.09375 54.296875 \nQ 44.09375 59.90625 40.109375 62.90625 \nQ 36.140625 65.921875 28.71875 65.921875 \nQ 24.65625 65.921875 20.015625 65.03125 \nQ 15.375 64.15625 9.8125 62.3125 \nL 9.8125 71.09375 \nQ 15.4375 72.65625 20.34375 73.4375 \nQ 25.25 74.21875 29.59375 74.21875 \nQ 40.828125 74.21875 47.359375 69.109375 \nQ 53.90625 64.015625 53.90625 55.328125 \nQ 53.90625 49.265625 50.4375 45.09375 \nQ 46.96875 40.921875 40.578125 39.3125 \nz\n\" id=\"DejaVuSans-51\"/>\n     </defs>\n     <g transform=\"translate(200.8644 145.533245)scale(0.08 -0.08)\">\n      <use transform=\"translate(0 0.78125)\" xlink:href=\"#DejaVuSans-Oblique-960\"/>\n      <use transform=\"translate(60.205078 0.78125)\" xlink:href=\"#DejaVuSans-47\"/>\n      <use transform=\"translate(93.896484 0.78125)\" xlink:href=\"#DejaVuSans-51\"/>\n     </g>\n    </g>\n   </g>\n   <g id=\"text_7\">\n    <g clip-path=\"url(#p5e15086746)\">\n     <!-- $R_y$ -->\n     <g transform=\"translate(290.6764 41.859327)scale(0.13 -0.13)\">\n      <use transform=\"translate(0 0.09375)\" xlink:href=\"#DejaVuSans-Oblique-82\"/>\n      <use transform=\"translate(69.482422 -16.3125)scale(0.7)\" xlink:href=\"#DejaVuSans-Oblique-121\"/>\n     </g>\n    </g>\n   </g>\n   <g id=\"text_8\">\n    <g clip-path=\"url(#p5e15086746)\">\n     <!-- $\\pi$ -->\n     <g transform=\"translate(295.6464 54.631245)scale(0.08 -0.08)\">\n      <use transform=\"translate(0 0.3125)\" xlink:href=\"#DejaVuSans-Oblique-960\"/>\n     </g>\n    </g>\n   </g>\n   <g id=\"text_9\">\n    <g clip-path=\"url(#p5e15086746)\">\n     <!-- $R_y$ -->\n     <g transform=\"translate(290.6764 87.310328)scale(0.13 -0.13)\">\n      <use transform=\"translate(0 0.09375)\" xlink:href=\"#DejaVuSans-Oblique-82\"/>\n      <use transform=\"translate(69.482422 -16.3125)scale(0.7)\" xlink:href=\"#DejaVuSans-Oblique-121\"/>\n     </g>\n    </g>\n   </g>\n   <g id=\"text_10\">\n    <g clip-path=\"url(#p5e15086746)\">\n     <!-- $\\pi$/2 -->\n     <g transform=\"translate(291.7664 100.082245)scale(0.08 -0.08)\">\n      <use transform=\"translate(0 0.78125)\" xlink:href=\"#DejaVuSans-Oblique-960\"/>\n      <use transform=\"translate(60.205078 0.78125)\" xlink:href=\"#DejaVuSans-47\"/>\n      <use transform=\"translate(93.849609 0.78125)\" xlink:href=\"#DejaVuSans-50\"/>\n     </g>\n    </g>\n   </g>\n   <g id=\"text_11\">\n    <g clip-path=\"url(#p5e15086746)\">\n     <!-- $R_y$ -->\n     <g transform=\"translate(290.6764 132.761327)scale(0.13 -0.13)\">\n      <use transform=\"translate(0 0.09375)\" xlink:href=\"#DejaVuSans-Oblique-82\"/>\n      <use transform=\"translate(69.482422 -16.3125)scale(0.7)\" xlink:href=\"#DejaVuSans-Oblique-121\"/>\n     </g>\n    </g>\n   </g>\n   <g id=\"text_12\">\n    <g clip-path=\"url(#p5e15086746)\">\n     <!-- $\\pi$/3 -->\n     <g transform=\"translate(291.7664 145.533245)scale(0.08 -0.08)\">\n      <use transform=\"translate(0 0.78125)\" xlink:href=\"#DejaVuSans-Oblique-960\"/>\n      <use transform=\"translate(60.205078 0.78125)\" xlink:href=\"#DejaVuSans-47\"/>\n      <use transform=\"translate(93.896484 0.78125)\" xlink:href=\"#DejaVuSans-51\"/>\n     </g>\n    </g>\n   </g>\n   <g id=\"text_13\">\n    <g clip-path=\"url(#p5e15086746)\">\n     <!-- $R_y$ -->\n     <g transform=\"translate(381.5784 41.859327)scale(0.13 -0.13)\">\n      <use transform=\"translate(0 0.09375)\" xlink:href=\"#DejaVuSans-Oblique-82\"/>\n      <use transform=\"translate(69.482422 -16.3125)scale(0.7)\" xlink:href=\"#DejaVuSans-Oblique-121\"/>\n     </g>\n    </g>\n   </g>\n   <g id=\"text_14\">\n    <g clip-path=\"url(#p5e15086746)\">\n     <!-- $\\pi$ -->\n     <g transform=\"translate(386.5484 54.631245)scale(0.08 -0.08)\">\n      <use transform=\"translate(0 0.3125)\" xlink:href=\"#DejaVuSans-Oblique-960\"/>\n     </g>\n    </g>\n   </g>\n   <g id=\"text_15\">\n    <g clip-path=\"url(#p5e15086746)\">\n     <!-- $R_y$ -->\n     <g transform=\"translate(381.5784 87.310328)scale(0.13 -0.13)\">\n      <use transform=\"translate(0 0.09375)\" xlink:href=\"#DejaVuSans-Oblique-82\"/>\n      <use transform=\"translate(69.482422 -16.3125)scale(0.7)\" xlink:href=\"#DejaVuSans-Oblique-121\"/>\n     </g>\n    </g>\n   </g>\n   <g id=\"text_16\">\n    <g clip-path=\"url(#p5e15086746)\">\n     <!-- $\\pi$/2 -->\n     <g transform=\"translate(382.6684 100.082245)scale(0.08 -0.08)\">\n      <use transform=\"translate(0 0.78125)\" xlink:href=\"#DejaVuSans-Oblique-960\"/>\n      <use transform=\"translate(60.205078 0.78125)\" xlink:href=\"#DejaVuSans-47\"/>\n      <use transform=\"translate(93.849609 0.78125)\" xlink:href=\"#DejaVuSans-50\"/>\n     </g>\n    </g>\n   </g>\n   <g id=\"text_17\">\n    <g clip-path=\"url(#p5e15086746)\">\n     <!-- $R_y$ -->\n     <g transform=\"translate(381.5784 132.761327)scale(0.13 -0.13)\">\n      <use transform=\"translate(0 0.09375)\" xlink:href=\"#DejaVuSans-Oblique-82\"/>\n      <use transform=\"translate(69.482422 -16.3125)scale(0.7)\" xlink:href=\"#DejaVuSans-Oblique-121\"/>\n     </g>\n    </g>\n   </g>\n   <g id=\"text_18\">\n    <g clip-path=\"url(#p5e15086746)\">\n     <!-- $\\pi$/3 -->\n     <g transform=\"translate(382.6684 145.533245)scale(0.08 -0.08)\">\n      <use transform=\"translate(0 0.78125)\" xlink:href=\"#DejaVuSans-Oblique-960\"/>\n      <use transform=\"translate(60.205078 0.78125)\" xlink:href=\"#DejaVuSans-47\"/>\n      <use transform=\"translate(93.896484 0.78125)\" xlink:href=\"#DejaVuSans-51\"/>\n     </g>\n    </g>\n   </g>\n   <g id=\"text_19\">\n    <g clip-path=\"url(#p5e15086746)\">\n     <!-- ${q977}_{0}$ -->\n     <defs>\n      <path d=\"M 41.703125 8.203125 \nQ 38.09375 3.46875 33.171875 1.015625 \nQ 28.265625 -1.421875 22.3125 -1.421875 \nQ 14.015625 -1.421875 9.296875 4.171875 \nQ 4.59375 9.765625 4.59375 19.578125 \nQ 4.59375 27.484375 7.5 34.859375 \nQ 10.40625 42.234375 15.828125 48.09375 \nQ 19.34375 51.90625 23.90625 53.953125 \nQ 28.46875 56 33.5 56 \nQ 39.546875 56 43.453125 53.609375 \nQ 47.359375 51.21875 49.125 46.390625 \nL 50.6875 54.59375 \nL 59.71875 54.59375 \nL 45.125 -20.609375 \nL 36.078125 -20.609375 \nz\nM 13.921875 20.90625 \nQ 13.921875 13.671875 16.9375 9.890625 \nQ 19.96875 6.109375 25.6875 6.109375 \nQ 34.1875 6.109375 40.1875 14.234375 \nQ 46.1875 22.359375 46.1875 33.984375 \nQ 46.1875 41.015625 43.078125 44.75 \nQ 39.984375 48.484375 34.1875 48.484375 \nQ 29.9375 48.484375 26.3125 46.5 \nQ 22.703125 44.53125 20.015625 40.71875 \nQ 17.1875 36.71875 15.546875 31.34375 \nQ 13.921875 25.984375 13.921875 20.90625 \nz\n\" id=\"DejaVuSans-Oblique-113\"/>\n      <path d=\"M 10.984375 1.515625 \nL 10.984375 10.5 \nQ 14.703125 8.734375 18.5 7.8125 \nQ 22.3125 6.890625 25.984375 6.890625 \nQ 35.75 6.890625 40.890625 13.453125 \nQ 46.046875 20.015625 46.78125 33.40625 \nQ 43.953125 29.203125 39.59375 26.953125 \nQ 35.25 24.703125 29.984375 24.703125 \nQ 19.046875 24.703125 12.671875 31.3125 \nQ 6.296875 37.9375 6.296875 49.421875 \nQ 6.296875 60.640625 12.9375 67.421875 \nQ 19.578125 74.21875 30.609375 74.21875 \nQ 43.265625 74.21875 49.921875 64.515625 \nQ 56.59375 54.828125 56.59375 36.375 \nQ 56.59375 19.140625 48.40625 8.859375 \nQ 40.234375 -1.421875 26.421875 -1.421875 \nQ 22.703125 -1.421875 18.890625 -0.6875 \nQ 15.09375 0.046875 10.984375 1.515625 \nz\nM 30.609375 32.421875 \nQ 37.25 32.421875 41.125 36.953125 \nQ 45.015625 41.5 45.015625 49.421875 \nQ 45.015625 57.28125 41.125 61.84375 \nQ 37.25 66.40625 30.609375 66.40625 \nQ 23.96875 66.40625 20.09375 61.84375 \nQ 16.21875 57.28125 16.21875 49.421875 \nQ 16.21875 41.5 20.09375 36.953125 \nQ 23.96875 32.421875 30.609375 32.421875 \nz\n\" id=\"DejaVuSans-57\"/>\n      <path d=\"M 8.203125 72.90625 \nL 55.078125 72.90625 \nL 55.078125 68.703125 \nL 28.609375 0 \nL 18.3125 0 \nL 43.21875 64.59375 \nL 8.203125 64.59375 \nz\n\" id=\"DejaVuSans-55\"/>\n      <path d=\"M 31.78125 66.40625 \nQ 24.171875 66.40625 20.328125 58.90625 \nQ 16.5 51.421875 16.5 36.375 \nQ 16.5 21.390625 20.328125 13.890625 \nQ 24.171875 6.390625 31.78125 6.390625 \nQ 39.453125 6.390625 43.28125 13.890625 \nQ 47.125 21.390625 47.125 36.375 \nQ 47.125 51.421875 43.28125 58.90625 \nQ 39.453125 66.40625 31.78125 66.40625 \nz\nM 31.78125 74.21875 \nQ 44.046875 74.21875 50.515625 64.515625 \nQ 56.984375 54.828125 56.984375 36.375 \nQ 56.984375 17.96875 50.515625 8.265625 \nQ 44.046875 -1.421875 31.78125 -1.421875 \nQ 19.53125 -1.421875 13.0625 8.265625 \nQ 6.59375 17.96875 6.59375 36.375 \nQ 6.59375 54.828125 13.0625 64.515625 \nQ 19.53125 74.21875 31.78125 74.21875 \nz\n\" id=\"DejaVuSans-48\"/>\n     </defs>\n     <g transform=\"translate(67.0449 48.011777)scale(0.1625 -0.1625)\">\n      <use transform=\"translate(0 0.78125)\" xlink:href=\"#DejaVuSans-Oblique-113\"/>\n      <use transform=\"translate(63.476562 0.78125)\" xlink:href=\"#DejaVuSans-57\"/>\n      <use transform=\"translate(127.099609 0.78125)\" xlink:href=\"#DejaVuSans-55\"/>\n      <use transform=\"translate(190.707031 0.78125)\" xlink:href=\"#DejaVuSans-55\"/>\n      <use transform=\"translate(255.287109 -15.625)scale(0.7)\" xlink:href=\"#DejaVuSans-48\"/>\n     </g>\n    </g>\n   </g>\n   <g id=\"text_20\">\n    <g clip-path=\"url(#p5e15086746)\">\n     <!-- ${q977}_{1}$ -->\n     <defs>\n      <path d=\"M 12.40625 8.296875 \nL 28.515625 8.296875 \nL 28.515625 63.921875 \nL 10.984375 60.40625 \nL 10.984375 69.390625 \nL 28.421875 72.90625 \nL 38.28125 72.90625 \nL 38.28125 8.296875 \nL 54.390625 8.296875 \nL 54.390625 0 \nL 12.40625 0 \nz\n\" id=\"DejaVuSans-49\"/>\n     </defs>\n     <g transform=\"translate(67.0449 93.462777)scale(0.1625 -0.1625)\">\n      <use transform=\"translate(0 0.78125)\" xlink:href=\"#DejaVuSans-Oblique-113\"/>\n      <use transform=\"translate(63.476562 0.78125)\" xlink:href=\"#DejaVuSans-57\"/>\n      <use transform=\"translate(127.099609 0.78125)\" xlink:href=\"#DejaVuSans-55\"/>\n      <use transform=\"translate(190.707031 0.78125)\" xlink:href=\"#DejaVuSans-55\"/>\n      <use transform=\"translate(255.287109 -15.625)scale(0.7)\" xlink:href=\"#DejaVuSans-49\"/>\n     </g>\n    </g>\n   </g>\n   <g id=\"text_21\">\n    <g clip-path=\"url(#p5e15086746)\">\n     <!-- ${q977}_{2}$ -->\n     <g transform=\"translate(67.0449 138.913777)scale(0.1625 -0.1625)\">\n      <use transform=\"translate(0 0.78125)\" xlink:href=\"#DejaVuSans-Oblique-113\"/>\n      <use transform=\"translate(63.476562 0.78125)\" xlink:href=\"#DejaVuSans-57\"/>\n      <use transform=\"translate(127.099609 0.78125)\" xlink:href=\"#DejaVuSans-55\"/>\n      <use transform=\"translate(190.707031 0.78125)\" xlink:href=\"#DejaVuSans-55\"/>\n      <use transform=\"translate(255.287109 -15.625)scale(0.7)\" xlink:href=\"#DejaVuSans-50\"/>\n     </g>\n    </g>\n   </g>\n   <g id=\"text_22\">\n    <g clip-path=\"url(#p5e15086746)\">\n     <!-- 3 -->\n     <g transform=\"translate(161.7334 173.205825)scale(0.104 -0.104)\">\n      <use xlink:href=\"#DejaVuSans-51\"/>\n     </g>\n    </g>\n   </g>\n   <g id=\"text_23\">\n    <g clip-path=\"url(#p5e15086746)\">\n     <!-- $c977$ -->\n     <defs>\n      <path d=\"M 53.609375 52.59375 \nL 51.8125 43.703125 \nQ 48.578125 46.046875 44.9375 47.21875 \nQ 41.3125 48.390625 37.40625 48.390625 \nQ 33.109375 48.390625 29.21875 46.875 \nQ 25.34375 45.359375 22.703125 42.578125 \nQ 18.5 38.328125 16.203125 32.609375 \nQ 13.921875 26.90625 13.921875 20.796875 \nQ 13.921875 13.421875 17.609375 9.8125 \nQ 21.296875 6.203125 28.8125 6.203125 \nQ 32.515625 6.203125 36.6875 7.328125 \nQ 40.875 8.453125 45.40625 10.6875 \nL 43.703125 1.8125 \nQ 39.796875 0.203125 35.671875 -0.609375 \nQ 31.546875 -1.421875 27.203125 -1.421875 \nQ 16.3125 -1.421875 10.453125 4.015625 \nQ 4.59375 9.46875 4.59375 19.578125 \nQ 4.59375 28.078125 7.640625 35.234375 \nQ 10.6875 42.390625 16.703125 48.09375 \nQ 20.796875 52 26.3125 54 \nQ 31.84375 56 38.375 56 \nQ 42.1875 56 45.9375 55.140625 \nQ 49.703125 54.296875 53.609375 52.59375 \nz\n\" id=\"DejaVuSans-Oblique-99\"/>\n     </defs>\n     <g transform=\"translate(68.3124 185.294581)scale(0.195 -0.195)\">\n      <use transform=\"translate(0 0.78125)\" xlink:href=\"#DejaVuSans-Oblique-99\"/>\n      <use transform=\"translate(54.980469 0.78125)\" xlink:href=\"#DejaVuSans-57\"/>\n      <use transform=\"translate(118.603516 0.78125)\" xlink:href=\"#DejaVuSans-55\"/>\n      <use transform=\"translate(182.210938 0.78125)\" xlink:href=\"#DejaVuSans-55\"/>\n     </g>\n    </g>\n   </g>\n  </g>\n </g>\n <defs>\n  <clipPath id=\"p5e15086746\">\n   <rect height=\"199.9844\" width=\"431.7845\" x=\"7.2\" y=\"7.2\"/>\n  </clipPath>\n </defs>\n</svg>\n",
      "image/png": "[encoded data removed]"
     },
     "metadata": {},
     "execution_count": 13
    }
   ],
   "source": [
    "theta = [np.pi,np.pi/2,np.pi/3]\n",
    "parametric_state(theta).draw(output='mpl')"
   ]
  },
  {
   "cell_type": "code",
   "execution_count": 4,
   "metadata": {},
   "outputs": [],
   "source": [
    "## All the necessary functions for the algorithm is written here ##\n",
    "\n",
    "def XZX(theta):\n",
    "    \"\"\"\n",
    "    Gives expectation value of XZX\n",
    "    sub-hamiltonian from measurement\n",
    "    on parametric state.\n",
    "    :param theta: angle in radian\n",
    "    :return: expectation value of XZX\n",
    "    \"\"\"\n",
    "    circuit = parametric_state(theta)\n",
    "    ###########  Transformation on XZX ###########\n",
    "    q = circuit.qregs[0]\n",
    "    c = circuit.cregs[0]\n",
    "    circuit.ry(-np.pi/2, q[0])\n",
    "    circuit.ry(-np.pi/2, q[2])\n",
    "    circuit.measure(q,c)\n",
    "    ############  XZX measurement  ##############\n",
    "    exp_XZX = measurement(circuit)\n",
    "    return exp_XZX\n",
    "    \n",
    "def XIX(theta):\n",
    "    \"\"\"\n",
    "    Gives expectation value of XIX\n",
    "    sub-hamiltonian from measurement\n",
    "    on parametric state.\n",
    "    :param theta: angle in radian\n",
    "    :return: expectation value of XIX\n",
    "    \"\"\"\n",
    "    circuit = parametric_state(theta)\n",
    "    ########### Transformation on YY #########\n",
    "    q = circuit.qregs[0]\n",
    "    c = circuit.cregs[0]\n",
    "    circuit.ry(-np.pi/2, q[0])\n",
    "    circuit.ry(-np.pi/2, q[2])\n",
    "    circuit.measure(q,c)\n",
    "    ############ YY Measurement ###########  \n",
    "    exp_XIX = measurement(circuit)\n",
    "    return exp_XIX\n",
    "\n",
    "def ZZZ(theta):\n",
    "    \"\"\"\n",
    "    Gives expectation value of ZZZ\n",
    "    sub-hamiltonian from measurement\n",
    "    on parametric state.\n",
    "    :param theta: angle in radian\n",
    "    :return: expectation value of ZZZ\n",
    "    \"\"\"\n",
    "    circuit = parametric_state(theta)\n",
    "    ##########################################\n",
    "    q = circuit.qregs[0]\n",
    "    c = circuit.cregs[0]\n",
    "    circuit.measure(q,c)\n",
    "    ###########  ZZ measurement ###############  \n",
    "    exp_ZZZ = measurement(circuit)\n",
    "    return exp_ZZZ\n",
    "\n",
    "def vqe(theta):    #------------------- creates ansatz measures and performs addition to get the eigen value\n",
    "    \"\"\"\n",
    "    Contain the complete Hamiltonian\n",
    "    :param theta: angle is radian\n",
    "    :return: expectation value of whole hamiltonian\n",
    "    \"\"\"                                                           # H = aXX + bYY + cZZ + dII\n",
    "    E = (0.2*XZX(theta)) + (0.9*XIX(theta)) + (0.3*ZZZ(theta))  #Hamiltonian  with a,b,c,d\n",
    "    return E\n",
    "\n",
    "def key_check(my_dict: dict, my_key: str):\n",
    "    \"\"\"\n",
    "    If key is missing returns 0\n",
    "    otherwise the corresponding value.\n",
    "    :param my_dict: the dictionary\n",
    "    :param my_key: key (string)\n",
    "    :return: 0 or value corresponding to key\n",
    "    \"\"\"\n",
    "    response = 0\n",
    "    if my_key in my_dict:\n",
    "        response = my_dict[my_key]\n",
    "    return response\n",
    "\n",
    "    \n",
    "def measurement(circuit):  # ------------------ Takes a quantum circuit and perform measurement\n",
    "    \"\"\"\n",
    "    Takes the quantum circuit as\n",
    "    input to perform measurement\n",
    "    :param circuit: quantumm circuit\n",
    "    :return: expectation value\n",
    "    \"\"\"\n",
    "    shots =1024\n",
    "    backend = BasicAer.get_backend('qasm_simulator')\n",
    "    job = execute(circuit, backend, shots=shots)\n",
    "    result = job.result()\n",
    "    counts = result.get_counts()\n",
    "    n100 = key_check(counts,'100')\n",
    "    n111 = key_check(counts,'111')\n",
    "    n001 = key_check(counts,'001')\n",
    "    n010 = key_check(counts,'010')\n",
    "    n000 = key_check(counts,'000')\n",
    "    n101 = key_check(counts,'101')\n",
    "    n110 = key_check(counts,'110')\n",
    "    n011 = key_check(counts,'011')\n",
    "    expectation_value = ((n000+n111)-(n100+n001+n010+n101+n110+n011))/shots \n",
    "    return expectation_value"
   ]
  },
  {
   "cell_type": "code",
   "execution_count": 7,
   "metadata": {},
   "outputs": [
    {
     "output_type": "stream",
     "name": "stdout",
     "text": "Ground state energy from VQE is -1.4000000000000001\nSuccess Status: True , Optimization terminated successfully.\n"
    }
   ],
   "source": [
    "###########  VQE by Scipy Optimizers  ##############\n",
    "theta = [2*np.pi,2*np.pi,2*np.pi]\n",
    "result = minimize(vqe, theta, method=\"Powell\")\n",
    "print('Ground state energy from VQE is {}'.format(result.fun))\n",
    "print('Success Status:',result.success,',',result.message)"
   ]
  },
  {
   "cell_type": "code",
   "execution_count": null,
   "metadata": {},
   "outputs": [],
   "source": []
  }
 ]
}