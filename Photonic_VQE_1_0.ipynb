{
  "nbformat": 4,
  "nbformat_minor": 0,
  "metadata": {
    "colab": {
      "name": "Photonic_VQE 1.0.ipynb",
      "provenance": [],
      "authorship_tag": "ABX9TyOqEMq509/W4EtQd2XMpcVf"
    },
    "kernelspec": {
      "name": "python3",
      "display_name": "Python 3"
    }
  },
  "cells": [
    {
      "cell_type": "code",
      "metadata": {
        "id": "6NQYpM5FUxnX",
        "colab_type": "code",
        "colab": {}
      },
      "source": [
        "!pip install strawberryfields --upgrade"
      ],
      "execution_count": 0,
      "outputs": []
    },
    {
      "cell_type": "code",
      "metadata": {
        "id": "33PrYwrwyoUl",
        "colab_type": "code",
        "colab": {}
      },
      "source": [
        "import strawberryfields as sf\n",
        "from strawberryfields.ops import *"
      ],
      "execution_count": 0,
      "outputs": []
    },
    {
      "cell_type": "code",
      "metadata": {
        "id": "MBOBlC6ruWEy",
        "colab_type": "code",
        "outputId": "dca91278-e252-4e70-c830-a0e36dbea16f",
        "colab": {
          "base_uri": "https://localhost:8080/",
          "height": 358
        }
      },
      "source": [
        "eng,q = sf.Engine(4)\n",
        "\n",
        "with eng:\n",
        "    # create initial states\n",
        "    Squeezed(0.1) | q[0]\n",
        "    Squeezed(-2) | q[1]\n",
        "    Squeezed(-2) | q[2]\n",
        "\n",
        "    # apply the gate to be teleported\n",
        "    Pgate(0.5) | q[1]\n",
        "    # conditional phase entanglement\n",
        "    CZgate(1) | (q[0], q[1])\n",
        "    CZgate(1) | (q[1], q[2])\n",
        "\n",
        "    # projective measurement onto\n",
        "    # the position quadrature\n",
        "    Fourier.H | q[0]\n",
        "    MeasureX | q[0]\n",
        "    Fourier.H | q[1]\n",
        "    MeasureX | q[1]\n",
        "    # compare against the expected output\n",
        "    # X(q1).F.P(0.5).X(q0).F.|z>\n",
        "    # not including the corrections\n",
        "    Squeezed(0.1) | q[3]\n",
        "    Fourier | q[3]\n",
        "    Xgate(q[0]) | q[3]\n",
        "    Pgate(0.5) | q[3]\n",
        "    Fourier | q[3]\n",
        "    Xgate(q[1]) | q[3]\n",
        "    # end circuit\n",
        "\n",
        "\n",
        "\n",
        "\n",
        "state = eng.run(\"gaussian\")\n",
        "print(state.reduced_gaussian([2]))\n",
        "print(state.reduced_gaussian([3]))"
      ],
      "execution_count": 0,
      "outputs": [
        {
          "output_type": "error",
          "ename": "TypeError",
          "evalue": "ignored",
          "traceback": [
            "\u001b[0;31m---------------------------------------------------------------------------\u001b[0m",
            "\u001b[0;31mTypeError\u001b[0m                                 Traceback (most recent call last)",
            "\u001b[0;32m<ipython-input-5-8086708243fe>\u001b[0m in \u001b[0;36m<module>\u001b[0;34m()\u001b[0m\n\u001b[0;32m----> 1\u001b[0;31m \u001b[0meng\u001b[0m\u001b[0;34m,\u001b[0m\u001b[0mq\u001b[0m \u001b[0;34m=\u001b[0m \u001b[0msf\u001b[0m\u001b[0;34m.\u001b[0m\u001b[0mEngine\u001b[0m\u001b[0;34m(\u001b[0m\u001b[0;36m4\u001b[0m\u001b[0;34m)\u001b[0m\u001b[0;34m\u001b[0m\u001b[0;34m\u001b[0m\u001b[0m\n\u001b[0m\u001b[1;32m      2\u001b[0m \u001b[0;34m\u001b[0m\u001b[0m\n\u001b[1;32m      3\u001b[0m \u001b[0;32mwith\u001b[0m \u001b[0meng\u001b[0m\u001b[0;34m:\u001b[0m\u001b[0;34m\u001b[0m\u001b[0;34m\u001b[0m\u001b[0m\n\u001b[1;32m      4\u001b[0m     \u001b[0;31m# create initial states\u001b[0m\u001b[0;34m\u001b[0m\u001b[0;34m\u001b[0m\u001b[0;34m\u001b[0m\u001b[0m\n\u001b[1;32m      5\u001b[0m     \u001b[0mSqueezed\u001b[0m\u001b[0;34m(\u001b[0m\u001b[0;36m0.1\u001b[0m\u001b[0;34m)\u001b[0m \u001b[0;34m|\u001b[0m \u001b[0mq\u001b[0m\u001b[0;34m[\u001b[0m\u001b[0;36m0\u001b[0m\u001b[0;34m]\u001b[0m\u001b[0;34m\u001b[0m\u001b[0;34m\u001b[0m\u001b[0m\n",
            "\u001b[0;32m/usr/local/lib/python3.6/dist-packages/strawberryfields/engine.py\u001b[0m in \u001b[0;36m__init__\u001b[0;34m(self, backend, backend_options)\u001b[0m\n\u001b[1;32m    402\u001b[0m             \u001b[0mself\u001b[0m\u001b[0;34m.\u001b[0m\u001b[0mbackend\u001b[0m \u001b[0;34m=\u001b[0m \u001b[0mbackend\u001b[0m\u001b[0;34m\u001b[0m\u001b[0;34m\u001b[0m\u001b[0m\n\u001b[1;32m    403\u001b[0m         \u001b[0;32melse\u001b[0m\u001b[0;34m:\u001b[0m\u001b[0;34m\u001b[0m\u001b[0;34m\u001b[0m\u001b[0m\n\u001b[0;32m--> 404\u001b[0;31m             \u001b[0;32mraise\u001b[0m \u001b[0mTypeError\u001b[0m\u001b[0;34m(\u001b[0m\u001b[0;34m'backend must be a string or a BaseBackend instance.'\u001b[0m\u001b[0;34m)\u001b[0m\u001b[0;34m\u001b[0m\u001b[0;34m\u001b[0m\u001b[0m\n\u001b[0m\u001b[1;32m    405\u001b[0m \u001b[0;34m\u001b[0m\u001b[0m\n\u001b[1;32m    406\u001b[0m     \u001b[0;32mdef\u001b[0m \u001b[0m__str__\u001b[0m\u001b[0;34m(\u001b[0m\u001b[0mself\u001b[0m\u001b[0;34m)\u001b[0m\u001b[0;34m:\u001b[0m\u001b[0;34m\u001b[0m\u001b[0;34m\u001b[0m\u001b[0m\n",
            "\u001b[0;31mTypeError\u001b[0m: backend must be a string or a BaseBackend instance."
          ]
        }
      ]
    },
    {
      "cell_type": "code",
      "metadata": {
        "id": "g146_1Xw00FE",
        "colab_type": "code",
        "outputId": "0aa853cd-2c4c-481c-8270-5b3c3bd53660",
        "colab": {
          "base_uri": "https://localhost:8080/",
          "height": 34
        }
      },
      "source": [
        "import strawberryfields as sf\n",
        "from strawberryfields import ops\n",
        "\n",
        "# create a 3 mode quantum program\n",
        "prog = sf.Program(3)\n",
        "\n",
        "with prog.context as q:\n",
        "    ops.Sgate(0.54) | q[0]\n",
        "    ops.Sgate(0.54) | q[1]\n",
        "    ops.Sgate(0.54) | q[2]\n",
        "    ops.BSgate(0.43, 0.1) | (q[0], q[2])\n",
        "    ops.BSgate(0.43, 0.1) | (q[1], q[2])\n",
        "    ops.MeasureFock() | q\n",
        "prog.draw_circuit"
      ],
      "execution_count": 0,
      "outputs": [
        {
          "output_type": "execute_result",
          "data": {
            "text/plain": [
              "<bound method Program.draw_circuit of <strawberryfields.program.Program object at 0x7f978f83c390>>"
            ]
          },
          "metadata": {
            "tags": []
          },
          "execution_count": 25
        }
      ]
    },
    {
      "cell_type": "code",
      "metadata": {
        "id": "xuj5JZAR1zhZ",
        "colab_type": "code",
        "outputId": "2e67fcc2-f85e-4391-8d33-257bb37faaa1",
        "colab": {
          "base_uri": "https://localhost:8080/",
          "height": 34
        }
      },
      "source": [
        "prog.draw_circuit"
      ],
      "execution_count": 0,
      "outputs": [
        {
          "output_type": "execute_result",
          "data": {
            "text/plain": [
              "<bound method Program.draw_circuit of <strawberryfields.program.Program object at 0x7f978f85a9b0>>"
            ]
          },
          "metadata": {
            "tags": []
          },
          "execution_count": 23
        }
      ]
    },
    {
      "cell_type": "code",
      "metadata": {
        "id": "9NfCgVyY14Ao",
        "colab_type": "code",
        "outputId": "589d6a2f-e70a-41a4-fb91-3b9f50ff9e61",
        "colab": {
          "base_uri": "https://localhost:8080/",
          "height": 121
        }
      },
      "source": [
        "prog.print()"
      ],
      "execution_count": 0,
      "outputs": [
        {
          "output_type": "stream",
          "text": [
            "Sgate(0.54, 0) | (q[0])\n",
            "Sgate(0.54, 0) | (q[1])\n",
            "Sgate(0.54, 0) | (q[2])\n",
            "BSgate(0.43, 0.1) | (q[0], q[2])\n",
            "BSgate(0.43, 0.1) | (q[1], q[2])\n",
            "MeasureFock | (q[0], q[1], q[2])\n"
          ],
          "name": "stdout"
        }
      ]
    },
    {
      "cell_type": "code",
      "metadata": {
        "id": "nMfJG0gn2DG9",
        "colab_type": "code",
        "colab": {}
      },
      "source": [
        ""
      ],
      "execution_count": 0,
      "outputs": []
    }
  ]
}